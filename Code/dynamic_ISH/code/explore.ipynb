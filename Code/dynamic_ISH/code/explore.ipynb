{
 "cells": [
  {
   "cell_type": "code",
   "execution_count": null,
   "metadata": {},
   "outputs": [],
   "source": []
  },
  {
   "cell_type": "code",
   "execution_count": null,
   "metadata": {},
   "outputs": [],
   "source": []
  },
  {
   "cell_type": "code",
   "execution_count": null,
   "metadata": {},
   "outputs": [],
   "source": [
    "X = np.random.random((n, t))\n",
    "C = np.corrcoef(X.T)\n",
    "assert(X.shape==(t, t))\n",
    "np.diag(C, 1)\n",
    "\n",
    "##\n",
    "\n",
    "X = X - X.mean(1)\n",
    "X = X / X.std(1)\n",
    "for i in range(t):\n",
    "    trc[i] = np.corrcoef(X[:, i], X[:, i+1])[1]\n",
    "\n",
    "##\n",
    "\n",
    "# normalize amnplitude (preprocess)\n",
    "X = X - X.mean(1)\n",
    "X = X / X.std(1)\n",
    "\n",
    "# compute the actual measure\n",
    "X = X - X.mean(0)\n",
    "X = X / np.linalg.norm(X, 0)\n",
    "trc = np.sum(X[:,:-1] * X[:, 2:], 0)\n",
    "             \n",
    "\n",
    "\n",
    "\n",
    "\n"
   ]
  }
 ],
 "metadata": {
  "language_info": {
   "name": "python"
  }
 },
 "nbformat": 4,
 "nbformat_minor": 2
}
