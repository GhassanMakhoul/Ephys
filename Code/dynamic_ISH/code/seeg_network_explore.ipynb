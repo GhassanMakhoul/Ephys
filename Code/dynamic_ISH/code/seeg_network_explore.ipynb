{
 "cells": [
  {
   "cell_type": "code",
   "execution_count": 1,
   "metadata": {},
   "outputs": [],
   "source": [
    "\n",
    "\n",
    "import os\n",
    "import re\n",
    "from scipy.io import loadmat\n",
    "import mat73\n",
    "\n",
    "from collections import Counter\n",
    "import pandas as pd\n",
    "import numpy as np\n",
    "import mne\n",
    "\n",
    "import seaborn as sns\n",
    "import matplotlib.pyplot as plt\n",
    "\n",
    "from utils import *\n",
    "from connectivity_dynamics import *"
   ]
  },
  {
   "cell_type": "code",
   "execution_count": 2,
   "metadata": {},
   "outputs": [],
   "source": [
    "TIMELINE_F = '/mnt/ernie_main/000_Data/SEEG/SEEG_Periictal/data/Extracted_Per_Event_Interictal/all_time_data_01042023_212306.csv'\n",
    "SEEG_FOLDER = '/mnt/ernie_main/000_Data/SEEG/SEEG_Entire_EMU_Downloads/data/'"
   ]
  },
  {
   "cell_type": "code",
   "execution_count": 3,
   "metadata": {},
   "outputs": [
    {
     "data": {
      "text/html": [
       "<div>\n",
       "<style scoped>\n",
       "    .dataframe tbody tr th:only-of-type {\n",
       "        vertical-align: middle;\n",
       "    }\n",
       "\n",
       "    .dataframe tbody tr th {\n",
       "        vertical-align: top;\n",
       "    }\n",
       "\n",
       "    .dataframe thead th {\n",
       "        text-align: right;\n",
       "    }\n",
       "</style>\n",
       "<table border=\"1\" class=\"dataframe\">\n",
       "  <thead>\n",
       "    <tr style=\"text-align: right;\">\n",
       "      <th></th>\n",
       "      <th>Type</th>\n",
       "      <th>Pat ID</th>\n",
       "      <th>Event Number (Matches EMU Final Report)</th>\n",
       "      <th>Date (MM:DD:YYYY)</th>\n",
       "      <th>Onset String (HH:MM:SS)</th>\n",
       "      <th>Offset String (HH:MM:SS)</th>\n",
       "      <th>Seizure Type (FAS; FIAS; FBTC; Non-electrographic; Subclinical; Unknown)</th>\n",
       "      <th>FileIndex</th>\n",
       "      <th>onset_datetime</th>\n",
       "      <th>offset_datetime</th>\n",
       "      <th>onset_datetime_buffer</th>\n",
       "      <th>offset_datetime_buffer</th>\n",
       "      <th>FileName</th>\n",
       "    </tr>\n",
       "  </thead>\n",
       "  <tbody>\n",
       "    <tr>\n",
       "      <th>0</th>\n",
       "      <td>File</td>\n",
       "      <td>Epat02</td>\n",
       "      <td>File1</td>\n",
       "      <td>09:14:2017</td>\n",
       "      <td>13:05:11</td>\n",
       "      <td>17:05:11</td>\n",
       "      <td>NaN</td>\n",
       "      <td>0</td>\n",
       "      <td>2017-09-14 13:05:11</td>\n",
       "      <td>2017-09-14 17:05:11</td>\n",
       "      <td>2017-09-14 13:06:11</td>\n",
       "      <td>2017-09-14 17:04:11</td>\n",
       "      <td>Epat02_09142017_13051100.EDF</td>\n",
       "    </tr>\n",
       "    <tr>\n",
       "      <th>1</th>\n",
       "      <td>File</td>\n",
       "      <td>Epat02</td>\n",
       "      <td>File2</td>\n",
       "      <td>09:14:2017</td>\n",
       "      <td>17:05:22</td>\n",
       "      <td>21:05:22</td>\n",
       "      <td>NaN</td>\n",
       "      <td>1</td>\n",
       "      <td>2017-09-14 17:05:22</td>\n",
       "      <td>2017-09-14 21:05:22</td>\n",
       "      <td>2017-09-14 17:06:22</td>\n",
       "      <td>2017-09-14 21:04:22</td>\n",
       "      <td>Epat02_09142017_17052200.EDF</td>\n",
       "    </tr>\n",
       "    <tr>\n",
       "      <th>2</th>\n",
       "      <td>File</td>\n",
       "      <td>Epat02</td>\n",
       "      <td>File3</td>\n",
       "      <td>09:14:2017</td>\n",
       "      <td>21:05:34</td>\n",
       "      <td>01:05:34</td>\n",
       "      <td>NaN</td>\n",
       "      <td>2</td>\n",
       "      <td>2017-09-14 21:05:34</td>\n",
       "      <td>2017-09-15 01:05:34</td>\n",
       "      <td>2017-09-14 21:06:34</td>\n",
       "      <td>2017-09-15 01:04:34</td>\n",
       "      <td>Epat02_09142017_21053400.EDF</td>\n",
       "    </tr>\n",
       "    <tr>\n",
       "      <th>3</th>\n",
       "      <td>File</td>\n",
       "      <td>Epat02</td>\n",
       "      <td>File4</td>\n",
       "      <td>09:15:2017</td>\n",
       "      <td>01:05:45</td>\n",
       "      <td>05:05:45</td>\n",
       "      <td>NaN</td>\n",
       "      <td>3</td>\n",
       "      <td>2017-09-15 01:05:45</td>\n",
       "      <td>2017-09-15 05:05:45</td>\n",
       "      <td>2017-09-15 01:06:45</td>\n",
       "      <td>2017-09-15 05:04:45</td>\n",
       "      <td>Epat02_09152017_01054500.EDF</td>\n",
       "    </tr>\n",
       "    <tr>\n",
       "      <th>4</th>\n",
       "      <td>File</td>\n",
       "      <td>Epat02</td>\n",
       "      <td>File5</td>\n",
       "      <td>09:15:2017</td>\n",
       "      <td>05:05:56</td>\n",
       "      <td>09:05:56</td>\n",
       "      <td>NaN</td>\n",
       "      <td>4</td>\n",
       "      <td>2017-09-15 05:05:56</td>\n",
       "      <td>2017-09-15 09:05:56</td>\n",
       "      <td>2017-09-15 05:06:56</td>\n",
       "      <td>2017-09-15 09:04:56</td>\n",
       "      <td>Epat02_09152017_05055600.EDF</td>\n",
       "    </tr>\n",
       "  </tbody>\n",
       "</table>\n",
       "</div>"
      ],
      "text/plain": [
       "   Type  Pat ID Event Number (Matches EMU Final Report) Date (MM:DD:YYYY)  \\\n",
       "0  File  Epat02                                   File1        09:14:2017   \n",
       "1  File  Epat02                                   File2        09:14:2017   \n",
       "2  File  Epat02                                   File3        09:14:2017   \n",
       "3  File  Epat02                                   File4        09:15:2017   \n",
       "4  File  Epat02                                   File5        09:15:2017   \n",
       "\n",
       "  Onset String (HH:MM:SS) Offset String (HH:MM:SS)  \\\n",
       "0                13:05:11                 17:05:11   \n",
       "1                17:05:22                 21:05:22   \n",
       "2                21:05:34                 01:05:34   \n",
       "3                01:05:45                 05:05:45   \n",
       "4                05:05:56                 09:05:56   \n",
       "\n",
       "  Seizure Type (FAS; FIAS; FBTC; Non-electrographic; Subclinical; Unknown)  \\\n",
       "0                                                NaN                         \n",
       "1                                                NaN                         \n",
       "2                                                NaN                         \n",
       "3                                                NaN                         \n",
       "4                                                NaN                         \n",
       "\n",
       "   FileIndex       onset_datetime      offset_datetime onset_datetime_buffer  \\\n",
       "0          0  2017-09-14 13:05:11  2017-09-14 17:05:11   2017-09-14 13:06:11   \n",
       "1          1  2017-09-14 17:05:22  2017-09-14 21:05:22   2017-09-14 17:06:22   \n",
       "2          2  2017-09-14 21:05:34  2017-09-15 01:05:34   2017-09-14 21:06:34   \n",
       "3          3  2017-09-15 01:05:45  2017-09-15 05:05:45   2017-09-15 01:06:45   \n",
       "4          4  2017-09-15 05:05:56  2017-09-15 09:05:56   2017-09-15 05:06:56   \n",
       "\n",
       "  offset_datetime_buffer                      FileName  \n",
       "0    2017-09-14 17:04:11  Epat02_09142017_13051100.EDF  \n",
       "1    2017-09-14 21:04:22  Epat02_09142017_17052200.EDF  \n",
       "2    2017-09-15 01:04:34  Epat02_09142017_21053400.EDF  \n",
       "3    2017-09-15 05:04:45  Epat02_09152017_01054500.EDF  \n",
       "4    2017-09-15 09:04:56  Epat02_09152017_05055600.EDF  "
      ]
     },
     "execution_count": 3,
     "metadata": {},
     "output_type": "execute_result"
    }
   ],
   "source": [
    "seeg_timeline_df = pd.read_csv(TIMELINE_F, delimiter=\"\\t\")\n",
    "seeg_timeline_df.head(5)"
   ]
  },
  {
   "cell_type": "code",
   "execution_count": 4,
   "metadata": {},
   "outputs": [],
   "source": [
    "label_f = '~/Ephys/Data/all_pats_bipole_soz_labels.csv'\n",
    "label_df = pd.read_csv(label_f, header=None)\n",
    "label_df.columns = ['subj','bipole','label']\n",
    "\n",
    "\n",
    "\n",
    "label_df = split_bipole(label_df)\n",
    "\n",
    "label_df.label = label_df.label.apply(map_label)\n",
    "label_df['bipole'] = label_df.bipole.apply(lambda x: x.replace(\" \", \"\"))"
   ]
  },
  {
   "cell_type": "markdown",
   "metadata": {},
   "source": [
    "# Calculating Connectivity Between Channels\n",
    "\n",
    "It seems my task is much easier than I previously thought. There are designated recordings for my 4 periods of interested already cleaned and labelled by Derek and Graham. Bless.\n",
    "\n",
    "Goal for this section's exploration: calculate ISH across 4 periods for 1 patient.\n",
    "1. Find 4 recordings for patient\n",
    "1. Calc Connectivity (PDC) for each recording\n",
    "1. Im show some of those recordings\n",
    "1. calculate inward-outward strengh for 4 periods - ISH\n",
    "1. BONUS: Redo 1-4 with cross spectral coherence connectivity from the French"
   ]
  },
  {
   "cell_type": "markdown",
   "metadata": {},
   "source": [
    "## Using Precomputed PDC Peri-Ictally"
   ]
  },
  {
   "cell_type": "code",
   "execution_count": 5,
   "metadata": {},
   "outputs": [
    {
     "name": "stderr",
     "output_type": "stream",
     "text": [
      "ERROR:root:ERROR: MATLAB type not supported: string, (uint32)\n",
      "ERROR:root:ERROR: MATLAB type not supported: string, (uint32)\n",
      "ERROR:root:ERROR: MATLAB type not supported: string, (uint32)\n",
      "ERROR:root:ERROR: MATLAB type not supported: datetime, (uint32)\n",
      "ERROR:root:ERROR: MATLAB type not supported: datetime, (uint32)\n",
      "ERROR:root:ERROR: MATLAB type not supported: datetime, (uint32)\n",
      "ERROR:root:ERROR: MATLAB type not supported: datetime, (uint32)\n",
      "ERROR:root:ERROR: MATLAB type not supported: string, (uint32)\n",
      "ERROR:root:ERROR: MATLAB type not supported: datetime, (uint32)\n",
      "ERROR:root:ERROR: MATLAB type not supported: datetime, (uint32)\n",
      "ERROR:root:ERROR: MATLAB type not supported: string, (uint32)\n",
      "ERROR:root:ERROR: MATLAB type not supported: table, (uint32)\n",
      "ERROR:root:ERROR: MATLAB type not supported: string, (uint32)\n",
      "ERROR:root:ERROR: MATLAB type not supported: string, (uint32)\n",
      "ERROR:root:ERROR: MATLAB type not supported: table, (uint32)\n",
      "ERROR:root:ERROR: MATLAB type not supported: string, (uint32)\n"
     ]
    }
   ],
   "source": [
    "pat = 'Epat02'\n",
    "conn_f = \"/mnt/ernie_main/Ghassan/ephys/data/connectivity/Epat02/Epat02_10_FIAS_imcoh.mat\"\n",
    "conn_obj = load_mat(conn_f)"
   ]
  },
  {
   "cell_type": "code",
   "execution_count": 6,
   "metadata": {},
   "outputs": [],
   "source": [
    "## loading the PDC and labels\n",
    "regions = [reg[0] for reg in conn_obj['pdc']['seizure']['bip_labels_used']]\n",
    "regions = format_bipoles(regions)\n"
   ]
  },
  {
   "cell_type": "code",
   "execution_count": 7,
   "metadata": {},
   "outputs": [],
   "source": [
    "#get labels of each patient's bipoles as SOZ, PZ, etc\n",
    "pat_df = label_df[label_df.subj==pat]\n",
    "contact_designation = pat_df.label.values\n",
    "bipoles = pat_df.bipole.values\n",
    "bip_dict = dict(zip(bipoles, contact_designation))\n",
    "pat_conn_labels = np.array([bip_dict[b] for b in regions])"
   ]
  },
  {
   "cell_type": "code",
   "execution_count": 8,
   "metadata": {},
   "outputs": [],
   "source": [
    "\n",
    "soz_inds, pz_inds, nz_inds = get_reg_inds(pat_conn_labels)"
   ]
  },
  {
   "cell_type": "code",
   "execution_count": 5,
   "metadata": {},
   "outputs": [],
   "source": [
    "data_dir = '/mnt/ernie_main/Ghassan/ephys/data/connectivity/'\n",
    "folders = glob.glob(os.path.join(data_dir, \"*pat*\"))\n",
    "sub_ids = [os.path.basename(f) for f in folders]"
   ]
  },
  {
   "cell_type": "code",
   "execution_count": 6,
   "metadata": {},
   "outputs": [],
   "source": [
    "tst_folders = folders[0:2]\n",
    "tst_subj = sub_ids[0:2]"
   ]
  },
  {
   "cell_type": "code",
   "execution_count": 20,
   "metadata": {},
   "outputs": [
    {
     "ename": "ValueError",
     "evalue": "No objects to concatenate",
     "output_type": "error",
     "traceback": [
      "\u001b[0;31m---------------------------------------------------------------------------\u001b[0m",
      "\u001b[0;31mValueError\u001b[0m                                Traceback (most recent call last)",
      "Cell \u001b[0;32mIn[20], line 1\u001b[0m\n\u001b[0;32m----> 1\u001b[0m tst_df \u001b[38;5;241m=\u001b[39m agg_subjects(tst_subj, tst_folders, label_df)\n",
      "File \u001b[0;32m~/Ephys/Code/dynamic_ISH/code/connectivity_dynamics.py:155\u001b[0m, in \u001b[0;36magg_subjects\u001b[0;34m(folders, subject_ids, bipole_label_df, **kwargs)\u001b[0m\n\u001b[1;32m    153\u001b[0m     df \u001b[38;5;241m=\u001b[39m agg_patient(subj_id, conn_dir, label_df, \u001b[38;5;241m*\u001b[39m\u001b[38;5;241m*\u001b[39mkwargs)\n\u001b[1;32m    154\u001b[0m     conn_dfs\u001b[38;5;241m.\u001b[39mappend(df)\n\u001b[0;32m--> 155\u001b[0m \u001b[38;5;28;01mreturn\u001b[39;00m pd\u001b[38;5;241m.\u001b[39mconcat(conn_dfs)\n",
      "File \u001b[0;32m~/miniconda3/envs/ephys/lib/python3.11/site-packages/pandas/core/reshape/concat.py:380\u001b[0m, in \u001b[0;36mconcat\u001b[0;34m(objs, axis, join, ignore_index, keys, levels, names, verify_integrity, sort, copy)\u001b[0m\n\u001b[1;32m    377\u001b[0m \u001b[38;5;28;01melif\u001b[39;00m copy \u001b[38;5;129;01mand\u001b[39;00m using_copy_on_write():\n\u001b[1;32m    378\u001b[0m     copy \u001b[38;5;241m=\u001b[39m \u001b[38;5;28;01mFalse\u001b[39;00m\n\u001b[0;32m--> 380\u001b[0m op \u001b[38;5;241m=\u001b[39m _Concatenator(\n\u001b[1;32m    381\u001b[0m     objs,\n\u001b[1;32m    382\u001b[0m     axis\u001b[38;5;241m=\u001b[39maxis,\n\u001b[1;32m    383\u001b[0m     ignore_index\u001b[38;5;241m=\u001b[39mignore_index,\n\u001b[1;32m    384\u001b[0m     join\u001b[38;5;241m=\u001b[39mjoin,\n\u001b[1;32m    385\u001b[0m     keys\u001b[38;5;241m=\u001b[39mkeys,\n\u001b[1;32m    386\u001b[0m     levels\u001b[38;5;241m=\u001b[39mlevels,\n\u001b[1;32m    387\u001b[0m     names\u001b[38;5;241m=\u001b[39mnames,\n\u001b[1;32m    388\u001b[0m     verify_integrity\u001b[38;5;241m=\u001b[39mverify_integrity,\n\u001b[1;32m    389\u001b[0m     copy\u001b[38;5;241m=\u001b[39mcopy,\n\u001b[1;32m    390\u001b[0m     sort\u001b[38;5;241m=\u001b[39msort,\n\u001b[1;32m    391\u001b[0m )\n\u001b[1;32m    393\u001b[0m \u001b[38;5;28;01mreturn\u001b[39;00m op\u001b[38;5;241m.\u001b[39mget_result()\n",
      "File \u001b[0;32m~/miniconda3/envs/ephys/lib/python3.11/site-packages/pandas/core/reshape/concat.py:443\u001b[0m, in \u001b[0;36m_Concatenator.__init__\u001b[0;34m(self, objs, axis, join, keys, levels, names, ignore_index, verify_integrity, copy, sort)\u001b[0m\n\u001b[1;32m    440\u001b[0m \u001b[38;5;28mself\u001b[39m\u001b[38;5;241m.\u001b[39mverify_integrity \u001b[38;5;241m=\u001b[39m verify_integrity\n\u001b[1;32m    441\u001b[0m \u001b[38;5;28mself\u001b[39m\u001b[38;5;241m.\u001b[39mcopy \u001b[38;5;241m=\u001b[39m copy\n\u001b[0;32m--> 443\u001b[0m objs, keys \u001b[38;5;241m=\u001b[39m \u001b[38;5;28mself\u001b[39m\u001b[38;5;241m.\u001b[39m_clean_keys_and_objs(objs, keys)\n\u001b[1;32m    445\u001b[0m \u001b[38;5;66;03m# figure out what our result ndim is going to be\u001b[39;00m\n\u001b[1;32m    446\u001b[0m ndims \u001b[38;5;241m=\u001b[39m \u001b[38;5;28mself\u001b[39m\u001b[38;5;241m.\u001b[39m_get_ndims(objs)\n",
      "File \u001b[0;32m~/miniconda3/envs/ephys/lib/python3.11/site-packages/pandas/core/reshape/concat.py:505\u001b[0m, in \u001b[0;36m_Concatenator._clean_keys_and_objs\u001b[0;34m(self, objs, keys)\u001b[0m\n\u001b[1;32m    502\u001b[0m     objs_list \u001b[38;5;241m=\u001b[39m \u001b[38;5;28mlist\u001b[39m(objs)\n\u001b[1;32m    504\u001b[0m \u001b[38;5;28;01mif\u001b[39;00m \u001b[38;5;28mlen\u001b[39m(objs_list) \u001b[38;5;241m==\u001b[39m \u001b[38;5;241m0\u001b[39m:\n\u001b[0;32m--> 505\u001b[0m     \u001b[38;5;28;01mraise\u001b[39;00m \u001b[38;5;167;01mValueError\u001b[39;00m(\u001b[38;5;124m\"\u001b[39m\u001b[38;5;124mNo objects to concatenate\u001b[39m\u001b[38;5;124m\"\u001b[39m)\n\u001b[1;32m    507\u001b[0m \u001b[38;5;28;01mif\u001b[39;00m keys \u001b[38;5;129;01mis\u001b[39;00m \u001b[38;5;28;01mNone\u001b[39;00m:\n\u001b[1;32m    508\u001b[0m     objs_list \u001b[38;5;241m=\u001b[39m \u001b[38;5;28mlist\u001b[39m(com\u001b[38;5;241m.\u001b[39mnot_none(\u001b[38;5;241m*\u001b[39mobjs_list))\n",
      "\u001b[0;31mValueError\u001b[0m: No objects to concatenate"
     ]
    }
   ],
   "source": [
    "tst_df = agg_subjects(tst_subj, tst_folders, label_df)"
   ]
  },
  {
   "cell_type": "code",
   "execution_count": 18,
   "metadata": {},
   "outputs": [
    {
     "data": {
      "text/plain": [
       "['/mnt/ernie_main/Ghassan/ephys/data/connectivity/Epat02',\n",
       " '/mnt/ernie_main/Ghassan/ephys/data/connectivity/Epat03']"
      ]
     },
     "execution_count": 18,
     "metadata": {},
     "output_type": "execute_result"
    }
   ],
   "source": [
    "[f for f in tst_folders if len(glob.glob(os.path.join(f, \"*.mat\"))) != 0 ]\n"
   ]
  },
  {
   "cell_type": "code",
   "execution_count": 10,
   "metadata": {},
   "outputs": [],
   "source": [
    "BANDS = ['delta', 'theta', 'alpha', 'beta','gamma_l', 'gamma_H']\n",
    "PERIOD = ['inter','pre','ictal','post']\n"
   ]
  },
  {
   "cell_type": "code",
   "execution_count": 12,
   "metadata": {},
   "outputs": [],
   "source": [
    "\n",
    "pdc_dict = get_conn_dict(conn_obj)"
   ]
  },
  {
   "cell_type": "code",
   "execution_count": 13,
   "metadata": {},
   "outputs": [],
   "source": [
    "subj_id = pat\n",
    "\n",
    "\n",
    "net_df = assemble_net_conn(subj_id,pdc_dict,soz_inds,pz_inds, nz_inds)"
   ]
  },
  {
   "cell_type": "code",
   "execution_count": 14,
   "metadata": {},
   "outputs": [
    {
     "name": "stderr",
     "output_type": "stream",
     "text": [
      "ERROR:root:ERROR: MATLAB type not supported: string, (uint32)\n",
      "ERROR:root:ERROR: MATLAB type not supported: string, (uint32)\n",
      "ERROR:root:ERROR: MATLAB type not supported: string, (uint32)\n",
      "ERROR:root:ERROR: MATLAB type not supported: datetime, (uint32)\n",
      "ERROR:root:ERROR: MATLAB type not supported: datetime, (uint32)\n",
      "ERROR:root:ERROR: MATLAB type not supported: datetime, (uint32)\n",
      "ERROR:root:ERROR: MATLAB type not supported: datetime, (uint32)\n",
      "ERROR:root:ERROR: MATLAB type not supported: string, (uint32)\n",
      "ERROR:root:ERROR: MATLAB type not supported: datetime, (uint32)\n",
      "ERROR:root:ERROR: MATLAB type not supported: datetime, (uint32)\n",
      "ERROR:root:ERROR: MATLAB type not supported: string, (uint32)\n",
      "ERROR:root:ERROR: MATLAB type not supported: table, (uint32)\n",
      "ERROR:root:ERROR: MATLAB type not supported: string, (uint32)\n",
      "ERROR:root:ERROR: MATLAB type not supported: string, (uint32)\n",
      "ERROR:root:ERROR: MATLAB type not supported: table, (uint32)\n",
      "ERROR:root:ERROR: MATLAB type not supported: string, (uint32)\n"
     ]
    }
   ],
   "source": [
    "tst_df = assemble_file(subj_id, conn_f, pat_conn_labels)"
   ]
  },
  {
   "cell_type": "code",
   "execution_count": 3,
   "metadata": {},
   "outputs": [
    {
     "data": {
      "text/plain": [
       "'/home/ghassan/Ephys/Code/dynamic_ISH/code'"
      ]
     },
     "execution_count": 3,
     "metadata": {},
     "output_type": "execute_result"
    }
   ],
   "source": [
    "pwd"
   ]
  },
  {
   "cell_type": "code",
   "execution_count": 6,
   "metadata": {},
   "outputs": [
    {
     "data": {
      "text/plain": [
       "0"
      ]
     },
     "execution_count": 6,
     "metadata": {},
     "output_type": "execute_result"
    }
   ],
   "source": [
    "len(glob.glob('/home/ghassan/Ephys/Code/dynamic_ISH/code/*.pxy'))"
   ]
  },
  {
   "cell_type": "code",
   "execution_count": 2,
   "metadata": {},
   "outputs": [
    {
     "data": {
      "text/plain": [
       "'str'"
      ]
     },
     "execution_count": 2,
     "metadata": {},
     "output_type": "execute_result"
    }
   ],
   "source": [
    "os.path.basename(\"/test/str\")"
   ]
  }
 ],
 "metadata": {
  "kernelspec": {
   "display_name": "ephys",
   "language": "python",
   "name": "python3"
  },
  "language_info": {
   "codemirror_mode": {
    "name": "ipython",
    "version": 3
   },
   "file_extension": ".py",
   "mimetype": "text/x-python",
   "name": "python",
   "nbconvert_exporter": "python",
   "pygments_lexer": "ipython3",
   "version": "3.11.5"
  }
 },
 "nbformat": 4,
 "nbformat_minor": 2
}
