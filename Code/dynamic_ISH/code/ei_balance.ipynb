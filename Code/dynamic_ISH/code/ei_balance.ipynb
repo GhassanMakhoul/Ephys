{
 "cells": [
  {
   "cell_type": "code",
   "execution_count": 2,
   "metadata": {},
   "outputs": [
    {
     "name": "stdout",
     "output_type": "stream",
     "text": [
      "The autoreload extension is already loaded. To reload it, use:\n",
      "  %reload_ext autoreload\n"
     ]
    }
   ],
   "source": [
    "%load_ext autoreload\n",
    "%autoreload 2\n",
    "import logging\n",
    "\n",
    "logging.getLogger('mat73').setLevel(logging.CRITICAL)\n",
    "import os\n",
    "import re\n",
    "from scipy.io import loadmat\n",
    "import mat73\n",
    "logging.getLogger('mat73').setLevel(logging.CRITICAL)\n",
    "\n",
    "import warnings\n",
    "\n",
    "from collections import Counter\n",
    "import pandas as pd\n",
    "import numpy as np\n",
    "from scipy.stats import f_oneway\n",
    "\n",
    "import matplotlib\n",
    "import matplotlib.pyplot as plt\n",
    "import seaborn as sns\n",
    "matplotlib.rcParams['pdf.fonttype'] = 42\n",
    "matplotlib.rcParams['ps.fonttype'] = 42\n",
    "\n",
    "from utils import *\n",
    "from connectivity_dynamics import *\n",
    "from eibal import *"
   ]
  },
  {
   "cell_type": "code",
   "execution_count": 3,
   "metadata": {},
   "outputs": [
    {
     "data": {
      "text/plain": [
       "4"
      ]
     },
     "execution_count": 3,
     "metadata": {},
     "output_type": "execute_result"
    }
   ],
   "source": [
    "1+3"
   ]
  },
  {
   "cell_type": "markdown",
   "metadata": {},
   "source": [
    "# Exploring the Structs with PDC Welch \n",
    "Here we will use the pre-computed spectral decompositions to plot the frequency range that most tracks E/I balance.\n",
    "    According to the Voytek group this is the 30-50Hz range\n",
    "    "
   ]
  },
  {
   "cell_type": "code",
   "execution_count": 4,
   "metadata": {},
   "outputs": [
    {
     "data": {
      "text/plain": [
       "['/mnt/ernie_main/Ghassan/ephys/data/connectivity/Epat34/Epat34_14_FIAS_imcoh.mat',\n",
       " '/mnt/ernie_main/Ghassan/ephys/data/connectivity/Epat34/Epat34_23_FIAS_imcoh.mat',\n",
       " '/mnt/ernie_main/Ghassan/ephys/data/connectivity/Epat34/Epat34_25_FAS_imcoh.mat',\n",
       " '/mnt/ernie_main/Ghassan/ephys/data/connectivity/Epat34/Epat34_4_FIAS_imcoh.mat',\n",
       " '/mnt/ernie_main/Ghassan/ephys/data/connectivity/Epat34/Epat34_8_FIAS_imcoh.mat',\n",
       " '/mnt/ernie_main/Ghassan/ephys/data/connectivity/Epat34/Epat34_10_Focal,_unknown_awareness_PDC.mat',\n",
       " '/mnt/ernie_main/Ghassan/ephys/data/connectivity/Epat34/Epat34_11_Focal,_unknown_awareness_PDC.mat',\n",
       " '/mnt/ernie_main/Ghassan/ephys/data/connectivity/Epat34/Epat34_12_Focal,_unknown_awareness_PDC.mat',\n",
       " '/mnt/ernie_main/Ghassan/ephys/data/connectivity/Epat34/Epat34_13_Focal,_unknown_awareness_PDC.mat',\n",
       " '/mnt/ernie_main/Ghassan/ephys/data/connectivity/Epat34/Epat34_14_FIAS_PDC.mat',\n",
       " '/mnt/ernie_main/Ghassan/ephys/data/connectivity/Epat34/Epat34_16_Focal,_unknown_awareness_PDC.mat',\n",
       " '/mnt/ernie_main/Ghassan/ephys/data/connectivity/Epat34/Epat34_19_Focal,_unknown_awareness_PDC.mat',\n",
       " '/mnt/ernie_main/Ghassan/ephys/data/connectivity/Epat34/Epat34_21_Focal,_unknown_awareness_PDC.mat',\n",
       " '/mnt/ernie_main/Ghassan/ephys/data/connectivity/Epat34/Epat34_22_Focal,_unknown_awareness_PDC.mat',\n",
       " '/mnt/ernie_main/Ghassan/ephys/data/connectivity/Epat34/Epat34_23_FIAS_PDC.mat',\n",
       " '/mnt/ernie_main/Ghassan/ephys/data/connectivity/Epat34/Epat34_25_FAS_PDC.mat',\n",
       " '/mnt/ernie_main/Ghassan/ephys/data/connectivity/Epat34/Epat34_4_FIAS_PDC.mat',\n",
       " '/mnt/ernie_main/Ghassan/ephys/data/connectivity/Epat34/Epat34_5_Focal,_unknown_awareness_PDC.mat',\n",
       " '/mnt/ernie_main/Ghassan/ephys/data/connectivity/Epat34/Epat34_6_Focal,_unknown_awareness_PDC.mat',\n",
       " '/mnt/ernie_main/Ghassan/ephys/data/connectivity/Epat34/Epat34_7_Focal,_unknown_awareness_PDC.mat',\n",
       " '/mnt/ernie_main/Ghassan/ephys/data/connectivity/Epat34/Epat34_8_FIAS_PDC.mat',\n",
       " '/mnt/ernie_main/Ghassan/ephys/data/connectivity/Epat34/Epat34_9_Focal,_unknown_awareness_PDC.mat']"
      ]
     },
     "execution_count": 4,
     "metadata": {},
     "output_type": "execute_result"
    }
   ],
   "source": [
    "DATA_DIR = '/mnt/ernie_main/Ghassan/ephys/data/connectivity'\n",
    "SUB_DIR = 'Epat34'\n",
    "sub_paths= glob.glob(os.path.join(DATA_DIR, SUB_DIR, \"*.mat\"))\n",
    "sub_paths"
   ]
  },
  {
   "cell_type": "code",
   "execution_count": 5,
   "metadata": {},
   "outputs": [],
   "source": [
    "tst_struct = load_mat(sub_paths[0])"
   ]
  },
  {
   "cell_type": "code",
   "execution_count": 11,
   "metadata": {},
   "outputs": [
    {
     "data": {
      "text/html": [
       "<div>\n",
       "<style scoped>\n",
       "    .dataframe tbody tr th:only-of-type {\n",
       "        vertical-align: middle;\n",
       "    }\n",
       "\n",
       "    .dataframe tbody tr th {\n",
       "        vertical-align: top;\n",
       "    }\n",
       "\n",
       "    .dataframe thead th {\n",
       "        text-align: right;\n",
       "    }\n",
       "</style>\n",
       "<table border=\"1\" class=\"dataframe\">\n",
       "  <thead>\n",
       "    <tr style=\"text-align: right;\">\n",
       "      <th></th>\n",
       "      <th>0</th>\n",
       "      <th>1</th>\n",
       "      <th>2</th>\n",
       "      <th>3</th>\n",
       "      <th>4</th>\n",
       "      <th>5</th>\n",
       "      <th>6</th>\n",
       "      <th>7</th>\n",
       "      <th>8</th>\n",
       "      <th>9</th>\n",
       "      <th>...</th>\n",
       "      <th>140</th>\n",
       "      <th>141</th>\n",
       "      <th>142</th>\n",
       "      <th>143</th>\n",
       "      <th>144</th>\n",
       "      <th>145</th>\n",
       "      <th>146</th>\n",
       "      <th>147</th>\n",
       "      <th>148</th>\n",
       "      <th>149</th>\n",
       "    </tr>\n",
       "  </thead>\n",
       "  <tbody>\n",
       "    <tr>\n",
       "      <th>0</th>\n",
       "      <td>3.005548e-10</td>\n",
       "      <td>2.012459e-10</td>\n",
       "      <td>7.948901e-11</td>\n",
       "      <td>5.702138e-11</td>\n",
       "      <td>5.153079e-11</td>\n",
       "      <td>5.220942e-11</td>\n",
       "      <td>2.702256e-11</td>\n",
       "      <td>1.823885e-11</td>\n",
       "      <td>8.409413e-12</td>\n",
       "      <td>4.617876e-12</td>\n",
       "      <td>...</td>\n",
       "      <td>8.156912e-15</td>\n",
       "      <td>6.869705e-15</td>\n",
       "      <td>3.759503e-15</td>\n",
       "      <td>7.033004e-15</td>\n",
       "      <td>6.782518e-15</td>\n",
       "      <td>5.004685e-15</td>\n",
       "      <td>4.114395e-15</td>\n",
       "      <td>5.090861e-15</td>\n",
       "      <td>2.418627e-15</td>\n",
       "      <td>2.288888e-15</td>\n",
       "    </tr>\n",
       "    <tr>\n",
       "      <th>1</th>\n",
       "      <td>1.416419e-10</td>\n",
       "      <td>2.486360e-10</td>\n",
       "      <td>1.189588e-10</td>\n",
       "      <td>6.887853e-11</td>\n",
       "      <td>4.256545e-11</td>\n",
       "      <td>2.952332e-11</td>\n",
       "      <td>1.928847e-11</td>\n",
       "      <td>8.859181e-12</td>\n",
       "      <td>4.547376e-12</td>\n",
       "      <td>7.787929e-12</td>\n",
       "      <td>...</td>\n",
       "      <td>2.131649e-15</td>\n",
       "      <td>6.106397e-15</td>\n",
       "      <td>8.311024e-15</td>\n",
       "      <td>2.847467e-15</td>\n",
       "      <td>1.995680e-15</td>\n",
       "      <td>1.962303e-15</td>\n",
       "      <td>1.885408e-15</td>\n",
       "      <td>1.717352e-15</td>\n",
       "      <td>1.159568e-15</td>\n",
       "      <td>1.025705e-15</td>\n",
       "    </tr>\n",
       "    <tr>\n",
       "      <th>2</th>\n",
       "      <td>4.998616e-12</td>\n",
       "      <td>3.839536e-12</td>\n",
       "      <td>3.767820e-12</td>\n",
       "      <td>3.606265e-12</td>\n",
       "      <td>5.193425e-12</td>\n",
       "      <td>3.295224e-12</td>\n",
       "      <td>1.838381e-12</td>\n",
       "      <td>1.275352e-12</td>\n",
       "      <td>8.622466e-13</td>\n",
       "      <td>1.039414e-12</td>\n",
       "      <td>...</td>\n",
       "      <td>2.151121e-15</td>\n",
       "      <td>2.572359e-15</td>\n",
       "      <td>3.043713e-15</td>\n",
       "      <td>1.338239e-15</td>\n",
       "      <td>9.391763e-16</td>\n",
       "      <td>1.911954e-15</td>\n",
       "      <td>3.011325e-15</td>\n",
       "      <td>2.859071e-15</td>\n",
       "      <td>2.042518e-15</td>\n",
       "      <td>1.147071e-15</td>\n",
       "    </tr>\n",
       "    <tr>\n",
       "      <th>3</th>\n",
       "      <td>1.088107e-10</td>\n",
       "      <td>2.046684e-10</td>\n",
       "      <td>6.796995e-11</td>\n",
       "      <td>1.438366e-10</td>\n",
       "      <td>1.081601e-10</td>\n",
       "      <td>7.326911e-11</td>\n",
       "      <td>2.094703e-11</td>\n",
       "      <td>1.081494e-11</td>\n",
       "      <td>6.451754e-12</td>\n",
       "      <td>8.507205e-12</td>\n",
       "      <td>...</td>\n",
       "      <td>1.344865e-14</td>\n",
       "      <td>1.283796e-14</td>\n",
       "      <td>9.758406e-15</td>\n",
       "      <td>8.041940e-15</td>\n",
       "      <td>6.579388e-15</td>\n",
       "      <td>3.172238e-15</td>\n",
       "      <td>8.038029e-15</td>\n",
       "      <td>7.415210e-15</td>\n",
       "      <td>3.795024e-15</td>\n",
       "      <td>3.675287e-15</td>\n",
       "    </tr>\n",
       "    <tr>\n",
       "      <th>4</th>\n",
       "      <td>3.882822e-11</td>\n",
       "      <td>6.656592e-11</td>\n",
       "      <td>3.998343e-11</td>\n",
       "      <td>2.755100e-11</td>\n",
       "      <td>6.206280e-12</td>\n",
       "      <td>7.958392e-12</td>\n",
       "      <td>1.690918e-11</td>\n",
       "      <td>8.794918e-12</td>\n",
       "      <td>1.236457e-11</td>\n",
       "      <td>9.118530e-12</td>\n",
       "      <td>...</td>\n",
       "      <td>8.213737e-15</td>\n",
       "      <td>5.640528e-15</td>\n",
       "      <td>8.409594e-15</td>\n",
       "      <td>1.090773e-14</td>\n",
       "      <td>6.573513e-15</td>\n",
       "      <td>4.940298e-15</td>\n",
       "      <td>5.798672e-15</td>\n",
       "      <td>2.647302e-15</td>\n",
       "      <td>1.795725e-15</td>\n",
       "      <td>2.018325e-15</td>\n",
       "    </tr>\n",
       "    <tr>\n",
       "      <th>...</th>\n",
       "      <td>...</td>\n",
       "      <td>...</td>\n",
       "      <td>...</td>\n",
       "      <td>...</td>\n",
       "      <td>...</td>\n",
       "      <td>...</td>\n",
       "      <td>...</td>\n",
       "      <td>...</td>\n",
       "      <td>...</td>\n",
       "      <td>...</td>\n",
       "      <td>...</td>\n",
       "      <td>...</td>\n",
       "      <td>...</td>\n",
       "      <td>...</td>\n",
       "      <td>...</td>\n",
       "      <td>...</td>\n",
       "      <td>...</td>\n",
       "      <td>...</td>\n",
       "      <td>...</td>\n",
       "      <td>...</td>\n",
       "      <td>...</td>\n",
       "    </tr>\n",
       "    <tr>\n",
       "      <th>103</th>\n",
       "      <td>9.923634e-12</td>\n",
       "      <td>1.899208e-11</td>\n",
       "      <td>2.014346e-11</td>\n",
       "      <td>8.287008e-12</td>\n",
       "      <td>3.030609e-11</td>\n",
       "      <td>2.078243e-11</td>\n",
       "      <td>8.496993e-12</td>\n",
       "      <td>5.440743e-12</td>\n",
       "      <td>9.843191e-12</td>\n",
       "      <td>1.064761e-11</td>\n",
       "      <td>...</td>\n",
       "      <td>6.096938e-15</td>\n",
       "      <td>1.262087e-14</td>\n",
       "      <td>9.369395e-15</td>\n",
       "      <td>6.662566e-15</td>\n",
       "      <td>7.519304e-15</td>\n",
       "      <td>9.215094e-15</td>\n",
       "      <td>5.560366e-15</td>\n",
       "      <td>4.813864e-15</td>\n",
       "      <td>3.853067e-15</td>\n",
       "      <td>1.726829e-15</td>\n",
       "    </tr>\n",
       "    <tr>\n",
       "      <th>104</th>\n",
       "      <td>7.276890e-12</td>\n",
       "      <td>1.861859e-11</td>\n",
       "      <td>1.661770e-11</td>\n",
       "      <td>1.325594e-11</td>\n",
       "      <td>1.722971e-11</td>\n",
       "      <td>1.578315e-11</td>\n",
       "      <td>6.678072e-12</td>\n",
       "      <td>1.376266e-11</td>\n",
       "      <td>2.989570e-11</td>\n",
       "      <td>2.192908e-11</td>\n",
       "      <td>...</td>\n",
       "      <td>3.511280e-15</td>\n",
       "      <td>9.452151e-15</td>\n",
       "      <td>1.222880e-14</td>\n",
       "      <td>3.322918e-15</td>\n",
       "      <td>8.077915e-15</td>\n",
       "      <td>4.333697e-15</td>\n",
       "      <td>3.624539e-15</td>\n",
       "      <td>2.090697e-15</td>\n",
       "      <td>1.577034e-15</td>\n",
       "      <td>1.232928e-15</td>\n",
       "    </tr>\n",
       "    <tr>\n",
       "      <th>105</th>\n",
       "      <td>6.496257e-12</td>\n",
       "      <td>1.500860e-11</td>\n",
       "      <td>2.208249e-11</td>\n",
       "      <td>2.635419e-11</td>\n",
       "      <td>1.009345e-11</td>\n",
       "      <td>6.946280e-12</td>\n",
       "      <td>6.549652e-12</td>\n",
       "      <td>8.020632e-12</td>\n",
       "      <td>1.933819e-11</td>\n",
       "      <td>2.152926e-11</td>\n",
       "      <td>...</td>\n",
       "      <td>6.948165e-15</td>\n",
       "      <td>9.128230e-15</td>\n",
       "      <td>3.685486e-15</td>\n",
       "      <td>3.324229e-15</td>\n",
       "      <td>2.531736e-15</td>\n",
       "      <td>1.917676e-15</td>\n",
       "      <td>4.362993e-15</td>\n",
       "      <td>2.968813e-15</td>\n",
       "      <td>1.289302e-15</td>\n",
       "      <td>1.410122e-15</td>\n",
       "    </tr>\n",
       "    <tr>\n",
       "      <th>106</th>\n",
       "      <td>3.600041e-12</td>\n",
       "      <td>9.355058e-12</td>\n",
       "      <td>1.239730e-11</td>\n",
       "      <td>1.264377e-11</td>\n",
       "      <td>1.239438e-11</td>\n",
       "      <td>7.821435e-12</td>\n",
       "      <td>4.224345e-12</td>\n",
       "      <td>1.788096e-11</td>\n",
       "      <td>4.806401e-11</td>\n",
       "      <td>4.303152e-11</td>\n",
       "      <td>...</td>\n",
       "      <td>1.812968e-15</td>\n",
       "      <td>2.947459e-15</td>\n",
       "      <td>3.655296e-15</td>\n",
       "      <td>1.804792e-15</td>\n",
       "      <td>1.552405e-15</td>\n",
       "      <td>1.109885e-15</td>\n",
       "      <td>4.790801e-16</td>\n",
       "      <td>4.731466e-16</td>\n",
       "      <td>6.281796e-16</td>\n",
       "      <td>4.484759e-16</td>\n",
       "    </tr>\n",
       "    <tr>\n",
       "      <th>107</th>\n",
       "      <td>3.245217e-12</td>\n",
       "      <td>9.462035e-12</td>\n",
       "      <td>6.904891e-12</td>\n",
       "      <td>1.889059e-11</td>\n",
       "      <td>8.881922e-12</td>\n",
       "      <td>6.999954e-12</td>\n",
       "      <td>7.269423e-12</td>\n",
       "      <td>9.347150e-12</td>\n",
       "      <td>1.396655e-11</td>\n",
       "      <td>2.296201e-11</td>\n",
       "      <td>...</td>\n",
       "      <td>7.967874e-16</td>\n",
       "      <td>6.343302e-16</td>\n",
       "      <td>5.240706e-16</td>\n",
       "      <td>6.739250e-16</td>\n",
       "      <td>6.515390e-16</td>\n",
       "      <td>9.418947e-16</td>\n",
       "      <td>9.241575e-16</td>\n",
       "      <td>6.870044e-16</td>\n",
       "      <td>5.013705e-16</td>\n",
       "      <td>2.700280e-16</td>\n",
       "    </tr>\n",
       "  </tbody>\n",
       "</table>\n",
       "<p>108 rows × 150 columns</p>\n",
       "</div>"
      ],
      "text/plain": [
       "              0             1             2             3             4    \\\n",
       "0    3.005548e-10  2.012459e-10  7.948901e-11  5.702138e-11  5.153079e-11   \n",
       "1    1.416419e-10  2.486360e-10  1.189588e-10  6.887853e-11  4.256545e-11   \n",
       "2    4.998616e-12  3.839536e-12  3.767820e-12  3.606265e-12  5.193425e-12   \n",
       "3    1.088107e-10  2.046684e-10  6.796995e-11  1.438366e-10  1.081601e-10   \n",
       "4    3.882822e-11  6.656592e-11  3.998343e-11  2.755100e-11  6.206280e-12   \n",
       "..            ...           ...           ...           ...           ...   \n",
       "103  9.923634e-12  1.899208e-11  2.014346e-11  8.287008e-12  3.030609e-11   \n",
       "104  7.276890e-12  1.861859e-11  1.661770e-11  1.325594e-11  1.722971e-11   \n",
       "105  6.496257e-12  1.500860e-11  2.208249e-11  2.635419e-11  1.009345e-11   \n",
       "106  3.600041e-12  9.355058e-12  1.239730e-11  1.264377e-11  1.239438e-11   \n",
       "107  3.245217e-12  9.462035e-12  6.904891e-12  1.889059e-11  8.881922e-12   \n",
       "\n",
       "              5             6             7             8             9    \\\n",
       "0    5.220942e-11  2.702256e-11  1.823885e-11  8.409413e-12  4.617876e-12   \n",
       "1    2.952332e-11  1.928847e-11  8.859181e-12  4.547376e-12  7.787929e-12   \n",
       "2    3.295224e-12  1.838381e-12  1.275352e-12  8.622466e-13  1.039414e-12   \n",
       "3    7.326911e-11  2.094703e-11  1.081494e-11  6.451754e-12  8.507205e-12   \n",
       "4    7.958392e-12  1.690918e-11  8.794918e-12  1.236457e-11  9.118530e-12   \n",
       "..            ...           ...           ...           ...           ...   \n",
       "103  2.078243e-11  8.496993e-12  5.440743e-12  9.843191e-12  1.064761e-11   \n",
       "104  1.578315e-11  6.678072e-12  1.376266e-11  2.989570e-11  2.192908e-11   \n",
       "105  6.946280e-12  6.549652e-12  8.020632e-12  1.933819e-11  2.152926e-11   \n",
       "106  7.821435e-12  4.224345e-12  1.788096e-11  4.806401e-11  4.303152e-11   \n",
       "107  6.999954e-12  7.269423e-12  9.347150e-12  1.396655e-11  2.296201e-11   \n",
       "\n",
       "     ...           140           141           142           143  \\\n",
       "0    ...  8.156912e-15  6.869705e-15  3.759503e-15  7.033004e-15   \n",
       "1    ...  2.131649e-15  6.106397e-15  8.311024e-15  2.847467e-15   \n",
       "2    ...  2.151121e-15  2.572359e-15  3.043713e-15  1.338239e-15   \n",
       "3    ...  1.344865e-14  1.283796e-14  9.758406e-15  8.041940e-15   \n",
       "4    ...  8.213737e-15  5.640528e-15  8.409594e-15  1.090773e-14   \n",
       "..   ...           ...           ...           ...           ...   \n",
       "103  ...  6.096938e-15  1.262087e-14  9.369395e-15  6.662566e-15   \n",
       "104  ...  3.511280e-15  9.452151e-15  1.222880e-14  3.322918e-15   \n",
       "105  ...  6.948165e-15  9.128230e-15  3.685486e-15  3.324229e-15   \n",
       "106  ...  1.812968e-15  2.947459e-15  3.655296e-15  1.804792e-15   \n",
       "107  ...  7.967874e-16  6.343302e-16  5.240706e-16  6.739250e-16   \n",
       "\n",
       "              144           145           146           147           148  \\\n",
       "0    6.782518e-15  5.004685e-15  4.114395e-15  5.090861e-15  2.418627e-15   \n",
       "1    1.995680e-15  1.962303e-15  1.885408e-15  1.717352e-15  1.159568e-15   \n",
       "2    9.391763e-16  1.911954e-15  3.011325e-15  2.859071e-15  2.042518e-15   \n",
       "3    6.579388e-15  3.172238e-15  8.038029e-15  7.415210e-15  3.795024e-15   \n",
       "4    6.573513e-15  4.940298e-15  5.798672e-15  2.647302e-15  1.795725e-15   \n",
       "..            ...           ...           ...           ...           ...   \n",
       "103  7.519304e-15  9.215094e-15  5.560366e-15  4.813864e-15  3.853067e-15   \n",
       "104  8.077915e-15  4.333697e-15  3.624539e-15  2.090697e-15  1.577034e-15   \n",
       "105  2.531736e-15  1.917676e-15  4.362993e-15  2.968813e-15  1.289302e-15   \n",
       "106  1.552405e-15  1.109885e-15  4.790801e-16  4.731466e-16  6.281796e-16   \n",
       "107  6.515390e-16  9.418947e-16  9.241575e-16  6.870044e-16  5.013705e-16   \n",
       "\n",
       "              149  \n",
       "0    2.288888e-15  \n",
       "1    1.025705e-15  \n",
       "2    1.147071e-15  \n",
       "3    3.675287e-15  \n",
       "4    2.018325e-15  \n",
       "..            ...  \n",
       "103  1.726829e-15  \n",
       "104  1.232928e-15  \n",
       "105  1.410122e-15  \n",
       "106  4.484759e-16  \n",
       "107  2.700280e-16  \n",
       "\n",
       "[108 rows x 150 columns]"
      ]
     },
     "execution_count": 11,
     "metadata": {},
     "output_type": "execute_result"
    }
   ],
   "source": [
    "psd_df"
   ]
  },
  {
   "cell_type": "code",
   "execution_count": 20,
   "metadata": {},
   "outputs": [
    {
     "name": "stdout",
     "output_type": "stream",
     "text": [
      "(108, 150)\n"
     ]
    },
    {
     "data": {
      "text/plain": [
       "<Axes: xlabel='freqs', ylabel='50'>"
      ]
     },
     "execution_count": 20,
     "metadata": {},
     "output_type": "execute_result"
    },
    {
     "data": {
      "image/png": "[encoded data removed]",
      "text/plain": [
       "<Figure size 640x480 with 1 Axes>"
      ]
     },
     "metadata": {},
     "output_type": "display_data"
    }
   ],
   "source": [
    "pwelch_all_windows = read_conn_struct(tst_struct, 'pdc','pwelch_all_windowed')\n",
    "freqs = read_conn_struct(tst_struct, 'pdc','pwelch_freqs')\n",
    "\n",
    "first_window = pwelch_all_windows[0,:,:]\n",
    "first_window.shape\n",
    "psd_df = pd.DataFrame(data=np.log(first_window.T))\n",
    "psd_df['freqs'] = freqs\n",
    "print(first_window.shape)\n",
    "sns.lineplot(data=psd_df, x='freqs', y=50)"
   ]
  },
  {
   "cell_type": "code",
   "execution_count": 25,
   "metadata": {},
   "outputs": [
    {
     "data": {
      "text/plain": [
       "np.float64(-0.0743445625577473)"
      ]
     },
     "execution_count": 25,
     "metadata": {},
     "output_type": "execute_result"
    }
   ],
   "source": [
    "get_ei_slope(freqs, first_window[50,:])"
   ]
  },
  {
   "cell_type": "code",
   "execution_count": null,
   "metadata": {},
   "outputs": [],
   "source": [
    "spectral_dfs = gen_global_peri_psd(sub_obj,spectral_keys)"
   ]
  },
  {
   "cell_type": "code",
   "execution_count": null,
   "metadata": {},
   "outputs": [],
   "source": [
    "with sns.plotting_context(\"paper\"):\n",
    "    sns.lineplot(spectral_dfs, x=\"freq\", y='power', hue='period')\n",
    "    plt.title(\"Global PSD per Recording Period for Epat 31 peri-ictal Data FIAS\")\n",
    "    plt.xlabel(\"Frequency\")\n",
    "    plt.ylabel(\"log(Power)\")\n",
    "    plt.savefig(\"../viz/global_psd_Epat31_FIAS.svg\",transparent=True)\n"
   ]
  },
  {
   "cell_type": "code",
   "execution_count": null,
   "metadata": {},
   "outputs": [],
   "source": [
    "sub_obj['pdc']['seizure']['patID']"
   ]
  },
  {
   "cell_type": "code",
   "execution_count": null,
   "metadata": {},
   "outputs": [],
   "source": [
    "for period in set(spectral_dfs.period):\n",
    "    df = spectral_dfs[spectral_dfs.period == period]\n",
    "    freqs = df.freq.values.reshape(-1,1)\n",
    "    power = df.power.values.reshape(-1,1)\n",
    "    slope = get_ei_slope(freqs, power)\n",
    "    print(f\"Period: {period} \\nSlope: {slope}\\n\")"
   ]
  },
  {
   "cell_type": "code",
   "execution_count": null,
   "metadata": {},
   "outputs": [],
   "source": [
    "len(sub_structs)"
   ]
  },
  {
   "cell_type": "code",
   "execution_count": null,
   "metadata": {},
   "outputs": [],
   "source": [
    "peri_df = gen_patient_psd('Epat31', sub_structs,spectral_keys, 'gen')"
   ]
  },
  {
   "cell_type": "code",
   "execution_count": null,
   "metadata": {},
   "outputs": [],
   "source": [
    "##Should be the same as above\n",
    "\n",
    "with sns.plotting_context(\"paper\"):\n",
    "    sns.lineplot(peri_df, x=\"freq\", y='power', hue='period')\n",
    "    plt.title(\"Global PSD per Recording Period for Epat 31 peri-ictal Data FIAS\")\n",
    "    plt.xlabel(\"Frequency\")\n",
    "    plt.ylabel(\"log(Power)\")\n",
    "    plt.savefig(\"../viz/global_psd_Epat31_FIAS.svg\",transparent=True)"
   ]
  },
  {
   "cell_type": "code",
   "execution_count": null,
   "metadata": {},
   "outputs": [],
   "source": [
    "peri_df = gen_patient_psd('Epat31', sub_structs,spectral_keys, 'channel')\n",
    "\n",
    "grp_df = peri_df.groupby([\"freq\",'labels','period']).mean().reset_index()\n",
    "\n",
    "grp_df.period = grp_df.period.apply(lambda x : x.split(\"_\")[-1])\n",
    "grp_df"
   ]
  },
  {
   "cell_type": "code",
   "execution_count": null,
   "metadata": {},
   "outputs": [],
   "source": [
    "with sns.plotting_context(\"paper\"):\n",
    "    with sns.color_palette(\"flare\"):\n",
    "        grid = sns.FacetGrid(grp_df,col='period',col_order=['interictal','pre','ictal','post']) \n",
    "        grid.map_dataframe(sns.lineplot, y='power',x='freq', hue='labels')\n",
    "        grid.add_legend()\n",
    "        grid.figure.suptitle(\"Peri Ictal PSD on a per-contact lvl\",y=1.01)\n",
    "        plt.savefig(\"../viz/peri_peri_psd.svg\",transparent=True)"
   ]
  },
  {
   "cell_type": "code",
   "execution_count": null,
   "metadata": {},
   "outputs": [],
   "source": [
    "contact_label = format_soz(sub_obj['pdc']['seizure']['soz_per_seizure'])\n",
    "ei_df = get_reg_ei(sub_obj['pdc']['seizure'],spectral_keys,contact_label)\n",
    "ei_df.period = ei_df.period.apply(lambda x : x.split(\"_\")[-1])\n"
   ]
  },
  {
   "cell_type": "code",
   "execution_count": null,
   "metadata": {},
   "outputs": [],
   "source": []
  },
  {
   "cell_type": "code",
   "execution_count": null,
   "metadata": {},
   "outputs": [],
   "source": [
    "with sns.plotting_context(\"paper\"):\n",
    "    with sns.color_palette(\"flare\"):\n",
    "        grid = sns.FacetGrid(ei_df,col='period',col_order=['interictal','pre','post']) \n",
    "        grid.map_dataframe(sns.violinplot, y='e_i',x='region', hue='region')\n",
    "        grid.add_legend()\n",
    "        grid.figure.suptitle(\"Peri Ictal E/I on a per-contact lvl\",y=1.01)\n",
    "        plt.savefig(\"../viz/peri_E_I_psd.svg\",transparent=True)"
   ]
  },
  {
   "cell_type": "code",
   "execution_count": null,
   "metadata": {},
   "outputs": [],
   "source": [
    "sub_list = [sub_path.split(\"/\")[-2] for sub_path in sub_paths]\n",
    "sz_list = [sub_path.split(\"/\")[-1].split(\"_\")[-2] for sub_path in sub_paths]"
   ]
  },
  {
   "cell_type": "code",
   "execution_count": null,
   "metadata": {},
   "outputs": [],
   "source": [
    "sub_paths= glob.glob(os.path.join(DATA_DIR, \"*pat*\", \"*.mat\"))\n"
   ]
  },
  {
   "cell_type": "code",
   "execution_count": null,
   "metadata": {},
   "outputs": [],
   "source": [
    "# from tqdm.notebook import tqdm\n",
    "# sub_paths= glob.glob(os.path.join(DATA_DIR, \"*pat*\", \"*.mat\"))\n",
    "# num_cores = 20\n",
    "# ei_dfs = []\n",
    "# count = 0\n",
    "# for f_paths in tqdm(chunker(sub_paths, num_cores)):\n",
    "#     structs = load_structs(f_paths,num_cores)\n",
    "#     incl_inds = [i for i in range(len(structs)) if structs[i] != None]\n",
    "#     structs = [structs[i] for i in incl_inds]\n",
    "\n",
    "#     sub_list = [sub_path.split(\"/\")[-2] for sub_path in f_paths]\n",
    "#     sub_list = [sub_list[i] for i in incl_inds] #NOTE: god this is messy. TODO: fix struct chars for ID and sztype\n",
    "#     sz_list = [sub_path.split(\"/\")[-1].split(\"_\")[-2] for sub_path in f_paths]\n",
    "#     sz_list = [sz_list[i] for i in incl_inds]\n",
    "\n",
    "#     res_dfs = get_reg_ei_para(structs, sub_list, sz_list, cores=num_cores)\n",
    "#     ei_dfs.append(res_dfs)\n",
    "#     count += 1\n",
    "#     if count >5:\n",
    "#         break\n",
    "# ei_dfs = pd.concat(ei_dfs)\n"
   ]
  },
  {
   "cell_type": "markdown",
   "metadata": {},
   "source": [
    "## Comparing E/I Distributions "
   ]
  },
  {
   "cell_type": "code",
   "execution_count": 3,
   "metadata": {},
   "outputs": [],
   "source": [
    "ei_dfs = pd.read_csv('../data/ei_bal.csv')"
   ]
  },
  {
   "cell_type": "code",
   "execution_count": 10,
   "metadata": {},
   "outputs": [],
   "source": [
    "def resample_regions(res_df, reg_col):\n",
    "    channel_counts = Counter(res_df[reg_col])\n",
    "    n_samps = min(channel_counts.values())\n",
    "    pz_df = res_df[res_df[reg_col] == 'PZ'].sample(n=n_samps, replace=True)\n",
    "\n",
    "    soz_df = res_df[res_df[reg_col] == 'SOZ'].sample(n=n_samps, replace=True)\n",
    "\n",
    "    niz_df = res_df[res_df[reg_col] == 'NIZ'].sample(n=n_samps, replace=True)\n",
    "\n",
    "    return pd.concat([pz_df, soz_df, niz_df])\n",
    "\n",
    "def get_stats_df(res_df):\n",
    "    stats_df = pd.DataFrame(columns=['p_val','period'])\n",
    "    for i, period in enumerate(set(res_df.period)):\n",
    "        per_df = res_df[res_df.period == period]\n",
    "        a = per_df[per_df.region == 'PZ'].e_i\n",
    "        b = per_df[per_df.region == 'SOZ'].e_i\n",
    "        c = per_df[per_df.region == 'NIZ'].e_i\n",
    "        F, p = f_oneway(a, b, c)\n",
    "        stats_df.loc[i] = [p, period]\n",
    "\n",
    "    return stats_df"
   ]
  },
  {
   "cell_type": "code",
   "execution_count": 16,
   "metadata": {},
   "outputs": [
    {
     "data": {
      "text/html": [
       "<div>\n",
       "<style scoped>\n",
       "    .dataframe tbody tr th:only-of-type {\n",
       "        vertical-align: middle;\n",
       "    }\n",
       "\n",
       "    .dataframe tbody tr th {\n",
       "        vertical-align: top;\n",
       "    }\n",
       "\n",
       "    .dataframe thead th {\n",
       "        text-align: right;\n",
       "    }\n",
       "</style>\n",
       "<table border=\"1\" class=\"dataframe\">\n",
       "  <thead>\n",
       "    <tr style=\"text-align: right;\">\n",
       "      <th></th>\n",
       "      <th>p_val</th>\n",
       "      <th>run</th>\n",
       "    </tr>\n",
       "    <tr>\n",
       "      <th>period</th>\n",
       "      <th></th>\n",
       "      <th></th>\n",
       "    </tr>\n",
       "  </thead>\n",
       "  <tbody>\n",
       "    <tr>\n",
       "      <th>ictal</th>\n",
       "      <td>0.040339</td>\n",
       "      <td>15.5</td>\n",
       "    </tr>\n",
       "    <tr>\n",
       "      <th>interictal</th>\n",
       "      <td>0.545833</td>\n",
       "      <td>15.5</td>\n",
       "    </tr>\n",
       "    <tr>\n",
       "      <th>post</th>\n",
       "      <td>0.329640</td>\n",
       "      <td>15.5</td>\n",
       "    </tr>\n",
       "    <tr>\n",
       "      <th>pre</th>\n",
       "      <td>0.153238</td>\n",
       "      <td>15.5</td>\n",
       "    </tr>\n",
       "  </tbody>\n",
       "</table>\n",
       "</div>"
      ],
      "text/plain": [
       "               p_val   run\n",
       "period                    \n",
       "ictal       0.040339  15.5\n",
       "interictal  0.545833  15.5\n",
       "post        0.329640  15.5\n",
       "pre         0.153238  15.5"
      ]
     },
     "execution_count": 16,
     "metadata": {},
     "output_type": "execute_result"
    }
   ],
   "source": [
    "stats_df.groupby('period').mean()"
   ]
  },
  {
   "cell_type": "code",
   "execution_count": 20,
   "metadata": {},
   "outputs": [
    {
     "name": "stderr",
     "output_type": "stream",
     "text": [
      "/home/ghassan/miniconda3/envs/ephys/lib/python3.11/site-packages/seaborn/axisgrid.py:854: FutureWarning: \n",
      "\n",
      "Setting a gradient palette using color= is deprecated and will be removed in v0.14.0. Set `palette='dark:#e98d6b'` for the same effect.\n",
      "\n",
      "  func(*plot_args, **plot_kwargs)\n",
      "/home/ghassan/miniconda3/envs/ephys/lib/python3.11/site-packages/seaborn/axisgrid.py:854: FutureWarning: \n",
      "\n",
      "Setting a gradient palette using color= is deprecated and will be removed in v0.14.0. Set `palette='dark:#e98d6b'` for the same effect.\n",
      "\n",
      "  func(*plot_args, **plot_kwargs)\n",
      "/home/ghassan/miniconda3/envs/ephys/lib/python3.11/site-packages/seaborn/axisgrid.py:854: FutureWarning: \n",
      "\n",
      "Setting a gradient palette using color= is deprecated and will be removed in v0.14.0. Set `palette='dark:#e98d6b'` for the same effect.\n",
      "\n",
      "  func(*plot_args, **plot_kwargs)\n",
      "/home/ghassan/miniconda3/envs/ephys/lib/python3.11/site-packages/seaborn/axisgrid.py:854: FutureWarning: \n",
      "\n",
      "Setting a gradient palette using color= is deprecated and will be removed in v0.14.0. Set `palette='dark:#e98d6b'` for the same effect.\n",
      "\n",
      "  func(*plot_args, **plot_kwargs)\n"
     ]
    },
    {
     "data": {
      "image/png": "[encoded data removed]",
      "text/plain": [
       "<Figure size 1209.78x300 with 4 Axes>"
      ]
     },
     "metadata": {},
     "output_type": "display_data"
    }
   ],
   "source": [
    "stats_df = []\n",
    "for i in range(10):\n",
    "    resamp_dfs = resample_regions(ei_dfs, 'region')\n",
    "    grp_df= resamp_dfs[['e_i', 'region', 'period','subj']].groupby(['subj','region','period']).mean().reset_index()\n",
    "    grp_df.period = grp_df.period.apply(lambda x : x.split(\"_\")[-1])\n",
    "    run_count +=1\n",
    "    df = get_stats_df(grp_df)\n",
    "    df['run'] = run_count\n",
    "    stats_df.append(df)\n",
    "stats_df = pd.concat(stats_df)\n",
    "with sns.plotting_context(\"paper\"):\n",
    "    with sns.color_palette(\"flare\"):\n",
    "        grid = sns.FacetGrid(grp_df,col='period',col_order=['interictal','pre','ictal','post']) \n",
    "\n",
    "        grid.map_dataframe(sns.violinplot, y='e_i',x='region', hue='region')\n",
    "        grid.add_legend()\n",
    "        grid.set_ylabels(\"Excitation Inhibition\")\n",
    "        grid.figure.suptitle(\"Peri Ictal E/I on a per-contact lvl\",y=1.01)\n",
    "        plt.savefig(\"../viz/peri_full_E_I_psd.svg\",transparent=True)"
   ]
  },
  {
   "cell_type": "code",
   "execution_count": null,
   "metadata": {},
   "outputs": [],
   "source": [
    "grp_df[['region','period','e_i']].groupby(['region','period']).mean()"
   ]
  }
 ],
 "metadata": {
  "kernelspec": {
   "display_name": "ephys",
   "language": "python",
   "name": "python3"
  },
  "language_info": {
   "codemirror_mode": {
    "name": "ipython",
    "version": 3
   },
   "file_extension": ".py",
   "mimetype": "text/x-python",
   "name": "python",
   "nbconvert_exporter": "python",
   "pygments_lexer": "ipython3",
   "version": "3.11.9"
  }
 },
 "nbformat": 4,
 "nbformat_minor": 2
}
