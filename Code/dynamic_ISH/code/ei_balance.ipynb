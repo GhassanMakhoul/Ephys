{
 "cells": [
  {
   "cell_type": "code",
   "execution_count": 2,
   "metadata": {},
   "outputs": [
    {
     "name": "stdout",
     "output_type": "stream",
     "text": [
      "The autoreload extension is already loaded. To reload it, use:\n",
      "  %reload_ext autoreload\n"
     ]
    }
   ],
   "source": [
    "%load_ext autoreload\n",
    "%autoreload 2\n",
    "import logging\n",
    "\n",
    "logging.getLogger('mat73').setLevel(logging.CRITICAL)\n",
    "import os\n",
    "import re\n",
    "from scipy.io import loadmat\n",
    "import mat73\n",
    "logging.getLogger('mat73').setLevel(logging.CRITICAL)\n",
    "\n",
    "import warnings\n",
    "\n",
    "from collections import Counter\n",
    "import pandas as pd\n",
    "import numpy as np\n",
    "from scipy.stats import f_oneway\n",
    "\n",
    "import matplotlib\n",
    "import matplotlib.pyplot as plt\n",
    "import seaborn as sns\n",
    "matplotlib.rcParams['pdf.fonttype'] = 42\n",
    "matplotlib.rcParams['ps.fonttype'] = 42\n",
    "\n",
    "from utils import *\n",
    "from connectivity_dynamics import *\n",
    "from eibal import *"
   ]
  },
  {
   "cell_type": "code",
   "execution_count": 3,
   "metadata": {},
   "outputs": [
    {
     "data": {
      "text/plain": [
       "4"
      ]
     },
     "execution_count": 3,
     "metadata": {},
     "output_type": "execute_result"
    }
   ],
   "source": [
    "1+3"
   ]
  },
  {
   "cell_type": "markdown",
   "metadata": {},
   "source": [
    "# Exploring the Structs with PDC Welch \n",
    "Here we will use the pre-computed spectral decompositions to plot the frequency range that most tracks E/I balance.\n",
    "    According to the Voytek group this is the 30-50Hz range\n",
    "    "
   ]
  },
  {
   "cell_type": "code",
   "execution_count": null,
   "metadata": {},
   "outputs": [],
   "source": [
    "DATA_DIR = '/mnt/ernie_main/Ghassan/ephys/data/connectivity'\n",
    "SUB_DIR = 'Epat34'\n",
    "sub_paths= glob.glob(os.path.join(DATA_DIR, SUB_DIR, \"*.mat\"))\n"
   ]
  },
  {
   "cell_type": "code",
   "execution_count": null,
   "metadata": {},
   "outputs": [],
   "source": [
    "\n",
    "\n",
    "# spectral_dfs = []\n",
    "\n",
    "# freqs = sub_obj['pdc']['seizure']['pwelch_freqs']\n",
    "# for key in spectral_keys:\n",
    "#     decomps = sub_obj['pdc']['seizure'][key]\n",
    "#     avg_decomp = np.mean(decomps, axis=0)\n",
    "#     df = pd.DataFrame()\n",
    "#     df['freq'] = freqs\n",
    "#     df['welch'] = np.log(avg_decomp)\n",
    "#     df['period'] = key\n",
    "#     spectral_dfs.append(df)\n",
    "# spectral_dfs = pd.concat(spectral_dfs)"
   ]
  },
  {
   "cell_type": "code",
   "execution_count": null,
   "metadata": {},
   "outputs": [],
   "source": [
    "spectral_dfs = gen_global_peri_psd(sub_obj,spectral_keys)"
   ]
  },
  {
   "cell_type": "code",
   "execution_count": null,
   "metadata": {},
   "outputs": [],
   "source": [
    "with sns.plotting_context(\"paper\"):\n",
    "    sns.lineplot(spectral_dfs, x=\"freq\", y='power', hue='period')\n",
    "    plt.title(\"Global PSD per Recording Period for Epat 31 peri-ictal Data FIAS\")\n",
    "    plt.xlabel(\"Frequency\")\n",
    "    plt.ylabel(\"log(Power)\")\n",
    "    plt.savefig(\"../viz/global_psd_Epat31_FIAS.svg\",transparent=True)\n"
   ]
  },
  {
   "cell_type": "code",
   "execution_count": null,
   "metadata": {},
   "outputs": [],
   "source": [
    "sub_obj['pdc']['seizure']['patID']"
   ]
  },
  {
   "cell_type": "code",
   "execution_count": null,
   "metadata": {},
   "outputs": [],
   "source": [
    "for period in set(spectral_dfs.period):\n",
    "    df = spectral_dfs[spectral_dfs.period == period]\n",
    "    freqs = df.freq.values.reshape(-1,1)\n",
    "    power = df.power.values.reshape(-1,1)\n",
    "    slope = get_ei_slope(freqs, power)\n",
    "    print(f\"Period: {period} \\nSlope: {slope}\\n\")"
   ]
  },
  {
   "cell_type": "code",
   "execution_count": null,
   "metadata": {},
   "outputs": [],
   "source": [
    "len(sub_structs)"
   ]
  },
  {
   "cell_type": "code",
   "execution_count": null,
   "metadata": {},
   "outputs": [],
   "source": [
    "peri_df = gen_patient_psd('Epat31', sub_structs,spectral_keys, 'gen')"
   ]
  },
  {
   "cell_type": "code",
   "execution_count": null,
   "metadata": {},
   "outputs": [],
   "source": [
    "##Should be the same as above\n",
    "\n",
    "with sns.plotting_context(\"paper\"):\n",
    "    sns.lineplot(peri_df, x=\"freq\", y='power', hue='period')\n",
    "    plt.title(\"Global PSD per Recording Period for Epat 31 peri-ictal Data FIAS\")\n",
    "    plt.xlabel(\"Frequency\")\n",
    "    plt.ylabel(\"log(Power)\")\n",
    "    plt.savefig(\"../viz/global_psd_Epat31_FIAS.svg\",transparent=True)"
   ]
  },
  {
   "cell_type": "code",
   "execution_count": null,
   "metadata": {},
   "outputs": [],
   "source": [
    "peri_df = gen_patient_psd('Epat31', sub_structs,spectral_keys, 'channel')\n",
    "\n",
    "grp_df = peri_df.groupby([\"freq\",'labels','period']).mean().reset_index()\n",
    "\n",
    "grp_df.period = grp_df.period.apply(lambda x : x.split(\"_\")[-1])\n",
    "grp_df"
   ]
  },
  {
   "cell_type": "code",
   "execution_count": null,
   "metadata": {},
   "outputs": [],
   "source": [
    "with sns.plotting_context(\"paper\"):\n",
    "    with sns.color_palette(\"flare\"):\n",
    "        grid = sns.FacetGrid(grp_df,col='period',col_order=['interictal','pre','ictal','post']) \n",
    "        grid.map_dataframe(sns.lineplot, y='power',x='freq', hue='labels')\n",
    "        grid.add_legend()\n",
    "        grid.figure.suptitle(\"Peri Ictal PSD on a per-contact lvl\",y=1.01)\n",
    "        plt.savefig(\"../viz/peri_peri_psd.svg\",transparent=True)"
   ]
  },
  {
   "cell_type": "code",
   "execution_count": null,
   "metadata": {},
   "outputs": [],
   "source": [
    "contact_label = format_soz(sub_obj['pdc']['seizure']['soz_per_seizure'])\n",
    "ei_df = get_reg_ei(sub_obj['pdc']['seizure'],spectral_keys,contact_label)\n",
    "ei_df.period = ei_df.period.apply(lambda x : x.split(\"_\")[-1])\n"
   ]
  },
  {
   "cell_type": "code",
   "execution_count": null,
   "metadata": {},
   "outputs": [],
   "source": []
  },
  {
   "cell_type": "code",
   "execution_count": null,
   "metadata": {},
   "outputs": [],
   "source": [
    "with sns.plotting_context(\"paper\"):\n",
    "    with sns.color_palette(\"flare\"):\n",
    "        grid = sns.FacetGrid(ei_df,col='period',col_order=['interictal','pre','post']) \n",
    "        grid.map_dataframe(sns.violinplot, y='e_i',x='region', hue='region')\n",
    "        grid.add_legend()\n",
    "        grid.figure.suptitle(\"Peri Ictal E/I on a per-contact lvl\",y=1.01)\n",
    "        plt.savefig(\"../viz/peri_E_I_psd.svg\",transparent=True)"
   ]
  },
  {
   "cell_type": "code",
   "execution_count": null,
   "metadata": {},
   "outputs": [],
   "source": [
    "sub_list = [sub_path.split(\"/\")[-2] for sub_path in sub_paths]\n",
    "sz_list = [sub_path.split(\"/\")[-1].split(\"_\")[-2] for sub_path in sub_paths]"
   ]
  },
  {
   "cell_type": "code",
   "execution_count": null,
   "metadata": {},
   "outputs": [],
   "source": [
    "sub_paths= glob.glob(os.path.join(DATA_DIR, \"*pat*\", \"*.mat\"))\n"
   ]
  },
  {
   "cell_type": "code",
   "execution_count": null,
   "metadata": {},
   "outputs": [],
   "source": [
    "# from tqdm.notebook import tqdm\n",
    "# sub_paths= glob.glob(os.path.join(DATA_DIR, \"*pat*\", \"*.mat\"))\n",
    "# num_cores = 20\n",
    "# ei_dfs = []\n",
    "# count = 0\n",
    "# for f_paths in tqdm(chunker(sub_paths, num_cores)):\n",
    "#     structs = load_structs(f_paths,num_cores)\n",
    "#     incl_inds = [i for i in range(len(structs)) if structs[i] != None]\n",
    "#     structs = [structs[i] for i in incl_inds]\n",
    "\n",
    "#     sub_list = [sub_path.split(\"/\")[-2] for sub_path in f_paths]\n",
    "#     sub_list = [sub_list[i] for i in incl_inds] #NOTE: god this is messy. TODO: fix struct chars for ID and sztype\n",
    "#     sz_list = [sub_path.split(\"/\")[-1].split(\"_\")[-2] for sub_path in f_paths]\n",
    "#     sz_list = [sz_list[i] for i in incl_inds]\n",
    "\n",
    "#     res_dfs = get_reg_ei_para(structs, sub_list, sz_list, cores=num_cores)\n",
    "#     ei_dfs.append(res_dfs)\n",
    "#     count += 1\n",
    "#     if count >5:\n",
    "#         break\n",
    "# ei_dfs = pd.concat(ei_dfs)\n"
   ]
  },
  {
   "cell_type": "markdown",
   "metadata": {},
   "source": [
    "## Comparing E/I Distributions "
   ]
  },
  {
   "cell_type": "code",
   "execution_count": 3,
   "metadata": {},
   "outputs": [],
   "source": [
    "ei_dfs = pd.read_csv('../data/ei_bal.csv')"
   ]
  },
  {
   "cell_type": "code",
   "execution_count": 10,
   "metadata": {},
   "outputs": [],
   "source": [
    "def resample_regions(res_df, reg_col):\n",
    "    channel_counts = Counter(res_df[reg_col])\n",
    "    n_samps = min(channel_counts.values())\n",
    "    pz_df = res_df[res_df[reg_col] == 'PZ'].sample(n=n_samps, replace=True)\n",
    "\n",
    "    soz_df = res_df[res_df[reg_col] == 'SOZ'].sample(n=n_samps, replace=True)\n",
    "\n",
    "    niz_df = res_df[res_df[reg_col] == 'NIZ'].sample(n=n_samps, replace=True)\n",
    "\n",
    "    return pd.concat([pz_df, soz_df, niz_df])\n",
    "\n",
    "def get_stats_df(res_df):\n",
    "    stats_df = pd.DataFrame(columns=['p_val','period'])\n",
    "    for i, period in enumerate(set(res_df.period)):\n",
    "        per_df = res_df[res_df.period == period]\n",
    "        a = per_df[per_df.region == 'PZ'].e_i\n",
    "        b = per_df[per_df.region == 'SOZ'].e_i\n",
    "        c = per_df[per_df.region == 'NIZ'].e_i\n",
    "        F, p = f_oneway(a, b, c)\n",
    "        stats_df.loc[i] = [p, period]\n",
    "\n",
    "    return stats_df"
   ]
  },
  {
   "cell_type": "code",
   "execution_count": 16,
   "metadata": {},
   "outputs": [
    {
     "data": {
      "text/html": [
       "<div>\n",
       "<style scoped>\n",
       "    .dataframe tbody tr th:only-of-type {\n",
       "        vertical-align: middle;\n",
       "    }\n",
       "\n",
       "    .dataframe tbody tr th {\n",
       "        vertical-align: top;\n",
       "    }\n",
       "\n",
       "    .dataframe thead th {\n",
       "        text-align: right;\n",
       "    }\n",
       "</style>\n",
       "<table border=\"1\" class=\"dataframe\">\n",
       "  <thead>\n",
       "    <tr style=\"text-align: right;\">\n",
       "      <th></th>\n",
       "      <th>p_val</th>\n",
       "      <th>run</th>\n",
       "    </tr>\n",
       "    <tr>\n",
       "      <th>period</th>\n",
       "      <th></th>\n",
       "      <th></th>\n",
       "    </tr>\n",
       "  </thead>\n",
       "  <tbody>\n",
       "    <tr>\n",
       "      <th>ictal</th>\n",
       "      <td>0.040339</td>\n",
       "      <td>15.5</td>\n",
       "    </tr>\n",
       "    <tr>\n",
       "      <th>interictal</th>\n",
       "      <td>0.545833</td>\n",
       "      <td>15.5</td>\n",
       "    </tr>\n",
       "    <tr>\n",
       "      <th>post</th>\n",
       "      <td>0.329640</td>\n",
       "      <td>15.5</td>\n",
       "    </tr>\n",
       "    <tr>\n",
       "      <th>pre</th>\n",
       "      <td>0.153238</td>\n",
       "      <td>15.5</td>\n",
       "    </tr>\n",
       "  </tbody>\n",
       "</table>\n",
       "</div>"
      ],
      "text/plain": [
       "               p_val   run\n",
       "period                    \n",
       "ictal       0.040339  15.5\n",
       "interictal  0.545833  15.5\n",
       "post        0.329640  15.5\n",
       "pre         0.153238  15.5"
      ]
     },
     "execution_count": 16,
     "metadata": {},
     "output_type": "execute_result"
    }
   ],
   "source": [
    "stats_df.groupby('period').mean()"
   ]
  },
  {
   "cell_type": "code",
   "execution_count": 20,
   "metadata": {},
   "outputs": [
    {
     "name": "stderr",
     "output_type": "stream",
     "text": [
      "/home/ghassan/miniconda3/envs/ephys/lib/python3.11/site-packages/seaborn/axisgrid.py:854: FutureWarning: \n",
      "\n",
      "Setting a gradient palette using color= is deprecated and will be removed in v0.14.0. Set `palette='dark:#e98d6b'` for the same effect.\n",
      "\n",
      "  func(*plot_args, **plot_kwargs)\n",
      "/home/ghassan/miniconda3/envs/ephys/lib/python3.11/site-packages/seaborn/axisgrid.py:854: FutureWarning: \n",
      "\n",
      "Setting a gradient palette using color= is deprecated and will be removed in v0.14.0. Set `palette='dark:#e98d6b'` for the same effect.\n",
      "\n",
      "  func(*plot_args, **plot_kwargs)\n",
      "/home/ghassan/miniconda3/envs/ephys/lib/python3.11/site-packages/seaborn/axisgrid.py:854: FutureWarning: \n",
      "\n",
      "Setting a gradient palette using color= is deprecated and will be removed in v0.14.0. Set `palette='dark:#e98d6b'` for the same effect.\n",
      "\n",
      "  func(*plot_args, **plot_kwargs)\n",
      "/home/ghassan/miniconda3/envs/ephys/lib/python3.11/site-packages/seaborn/axisgrid.py:854: FutureWarning: \n",
      "\n",
      "Setting a gradient palette using color= is deprecated and will be removed in v0.14.0. Set `palette='dark:#e98d6b'` for the same effect.\n",
      "\n",
      "  func(*plot_args, **plot_kwargs)\n"
     ]
    },
    {
     "data": {
      "image/png": "[encoded data removed]",
      "text/plain": [
       "<Figure size 1209.78x300 with 4 Axes>"
      ]
     },
     "metadata": {},
     "output_type": "display_data"
    }
   ],
   "source": [
    "stats_df = []\n",
    "for i in range(10):\n",
    "    resamp_dfs = resample_regions(ei_dfs, 'region')\n",
    "    grp_df= resamp_dfs[['e_i', 'region', 'period','subj']].groupby(['subj','region','period']).mean().reset_index()\n",
    "    grp_df.period = grp_df.period.apply(lambda x : x.split(\"_\")[-1])\n",
    "    run_count +=1\n",
    "    df = get_stats_df(grp_df)\n",
    "    df['run'] = run_count\n",
    "    stats_df.append(df)\n",
    "stats_df = pd.concat(stats_df)\n",
    "with sns.plotting_context(\"paper\"):\n",
    "    with sns.color_palette(\"flare\"):\n",
    "        grid = sns.FacetGrid(grp_df,col='period',col_order=['interictal','pre','ictal','post']) \n",
    "\n",
    "        grid.map_dataframe(sns.violinplot, y='e_i',x='region', hue='region')\n",
    "        grid.add_legend()\n",
    "        grid.set_ylabels(\"Excitation Inhibition\")\n",
    "        grid.figure.suptitle(\"Peri Ictal E/I on a per-contact lvl\",y=1.01)\n",
    "        plt.savefig(\"../viz/peri_full_E_I_psd.svg\",transparent=True)"
   ]
  },
  {
   "cell_type": "code",
   "execution_count": null,
   "metadata": {},
   "outputs": [],
   "source": [
    "grp_df[['region','period','e_i']].groupby(['region','period']).mean()"
   ]
  }
 ],
 "metadata": {
  "kernelspec": {
   "display_name": "ephys",
   "language": "python",
   "name": "python3"
  },
  "language_info": {
   "codemirror_mode": {
    "name": "ipython",
    "version": 3
   },
   "file_extension": ".py",
   "mimetype": "text/x-python",
   "name": "python",
   "nbconvert_exporter": "python",
   "pygments_lexer": "ipython3",
   "version": "3.11.9"
  }
 },
 "nbformat": 4,
 "nbformat_minor": 2
}
