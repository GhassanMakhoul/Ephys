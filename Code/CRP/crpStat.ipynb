{
 "cells": [
  {
   "cell_type": "code",
   "execution_count": 1,
   "metadata": {},
   "outputs": [],
   "source": [
    "import os\n",
    "import pandas as pd\n",
    "import seaborn as sns\n",
    "import numpy as np\n",
    "import matplotlib.pyplot as plt\n",
    "from statistics import NormalDist\n",
    "import glob\n",
    "from collections import defaultdict\n",
    "\n",
    "from scipy.stats import ttest_ind, f_oneway\n",
    "\n",
    "from CrpStats import *"
   ]
  },
  {
   "cell_type": "code",
   "execution_count": null,
   "metadata": {},
   "outputs": [],
   "source": []
  },
  {
   "cell_type": "code",
   "execution_count": 2,
   "metadata": {},
   "outputs": [],
   "source": [
    "\n",
    "label_f = '~/Ephys/Data/all_pats_bipole_soz_labels.csv'\n",
    "label_df = pd.read_csv(label_f, header=None)\n",
    "label_df.columns = ['subj','bipole','label']\n",
    "label_df.head(4)\n",
    "dx_df = pd.read_csv(\"../../Data/Pat_Epilepsy_Subtype.csv\")"
   ]
  },
  {
   "cell_type": "code",
   "execution_count": 3,
   "metadata": {},
   "outputs": [],
   "source": [
    "TLE_IDS = dx_df[dx_df[\"Pure mTLE\"] ==1].PatID.values\n",
    "NON_TLE_IDS = dx_df[dx_df[\"Pure mTLE\"] !=1].PatID.values"
   ]
  },
  {
   "cell_type": "code",
   "execution_count": 4,
   "metadata": {},
   "outputs": [],
   "source": [
    "\n",
    "label_f = '~/Ephys/Data/all_pats_bipole_soz_labels.csv'\n",
    "label_df = pd.read_csv(label_f, header=None)\n",
    "label_df.columns = ['subj','bipole','label']\n",
    "\n",
    "\n",
    "\n",
    "label_df = split_bipole(label_df)\n",
    "\n",
    "label_df.label = label_df.label.apply(map_label)\n",
    "label_df['bipole'] = label_df.bipole.apply(lambda x: x.replace(\" \", \"\"))\n",
    "\n",
    "relabel = defaultdict(lambda:\"NZ\")\n",
    "relabel['SOZ'] = 'SOZ' \n",
    "label_df['label'] = [relabel[x] for x in label_df.label.values]\n",
    "\n"
   ]
  },
  {
   "cell_type": "code",
   "execution_count": 5,
   "metadata": {},
   "outputs": [
    {
     "data": {
      "text/html": [
       "<div>\n",
       "<style scoped>\n",
       "    .dataframe tbody tr th:only-of-type {\n",
       "        vertical-align: middle;\n",
       "    }\n",
       "\n",
       "    .dataframe tbody tr th {\n",
       "        vertical-align: top;\n",
       "    }\n",
       "\n",
       "    .dataframe thead th {\n",
       "        text-align: right;\n",
       "    }\n",
       "</style>\n",
       "<table border=\"1\" class=\"dataframe\">\n",
       "  <thead>\n",
       "    <tr style=\"text-align: right;\">\n",
       "      <th></th>\n",
       "      <th>subj</th>\n",
       "      <th>bipole</th>\n",
       "      <th>label</th>\n",
       "      <th>contact</th>\n",
       "    </tr>\n",
       "  </thead>\n",
       "  <tbody>\n",
       "    <tr>\n",
       "      <th>0</th>\n",
       "      <td>Epat31</td>\n",
       "      <td>AH3-AH4</td>\n",
       "      <td>SOZ</td>\n",
       "      <td>AH3</td>\n",
       "    </tr>\n",
       "    <tr>\n",
       "      <th>1</th>\n",
       "      <td>Epat31</td>\n",
       "      <td>AH4-AH5</td>\n",
       "      <td>SOZ</td>\n",
       "      <td>AH4</td>\n",
       "    </tr>\n",
       "    <tr>\n",
       "      <th>2</th>\n",
       "      <td>Epat31</td>\n",
       "      <td>AH5-AH6</td>\n",
       "      <td>SOZ</td>\n",
       "      <td>AH5</td>\n",
       "    </tr>\n",
       "    <tr>\n",
       "      <th>3</th>\n",
       "      <td>Epat31</td>\n",
       "      <td>PH1-PH2</td>\n",
       "      <td>SOZ</td>\n",
       "      <td>PH1</td>\n",
       "    </tr>\n",
       "    <tr>\n",
       "      <th>4</th>\n",
       "      <td>Epat31</td>\n",
       "      <td>PH2-PH3</td>\n",
       "      <td>SOZ</td>\n",
       "      <td>PH2</td>\n",
       "    </tr>\n",
       "    <tr>\n",
       "      <th>...</th>\n",
       "      <td>...</td>\n",
       "      <td>...</td>\n",
       "      <td>...</td>\n",
       "      <td>...</td>\n",
       "    </tr>\n",
       "    <tr>\n",
       "      <th>7048</th>\n",
       "      <td>Spat55</td>\n",
       "      <td>LCM6-LCM7</td>\n",
       "      <td>NZ</td>\n",
       "      <td>LCM7</td>\n",
       "    </tr>\n",
       "    <tr>\n",
       "      <th>7049</th>\n",
       "      <td>Spat55</td>\n",
       "      <td>LCM8-LCM9</td>\n",
       "      <td>NZ</td>\n",
       "      <td>LCM9</td>\n",
       "    </tr>\n",
       "    <tr>\n",
       "      <th>7050</th>\n",
       "      <td>Spat55</td>\n",
       "      <td>LCM9-LCM10</td>\n",
       "      <td>NZ</td>\n",
       "      <td>LCM10</td>\n",
       "    </tr>\n",
       "    <tr>\n",
       "      <th>7051</th>\n",
       "      <td>Spat55</td>\n",
       "      <td>LCM10-LCM11</td>\n",
       "      <td>NZ</td>\n",
       "      <td>LCM11</td>\n",
       "    </tr>\n",
       "    <tr>\n",
       "      <th>7052</th>\n",
       "      <td>Spat55</td>\n",
       "      <td>LCM11-LCM12</td>\n",
       "      <td>NZ</td>\n",
       "      <td>LCM12</td>\n",
       "    </tr>\n",
       "  </tbody>\n",
       "</table>\n",
       "<p>14106 rows × 4 columns</p>\n",
       "</div>"
      ],
      "text/plain": [
       "        subj       bipole label contact\n",
       "0     Epat31      AH3-AH4   SOZ     AH3\n",
       "1     Epat31      AH4-AH5   SOZ     AH4\n",
       "2     Epat31      AH5-AH6   SOZ     AH5\n",
       "3     Epat31      PH1-PH2   SOZ     PH1\n",
       "4     Epat31      PH2-PH3   SOZ     PH2\n",
       "...      ...          ...   ...     ...\n",
       "7048  Spat55    LCM6-LCM7    NZ    LCM7\n",
       "7049  Spat55    LCM8-LCM9    NZ    LCM9\n",
       "7050  Spat55   LCM9-LCM10    NZ   LCM10\n",
       "7051  Spat55  LCM10-LCM11    NZ   LCM11\n",
       "7052  Spat55  LCM11-LCM12    NZ   LCM12\n",
       "\n",
       "[14106 rows x 4 columns]"
      ]
     },
     "execution_count": 5,
     "metadata": {},
     "output_type": "execute_result"
    }
   ],
   "source": [
    "label_df"
   ]
  },
  {
   "cell_type": "code",
   "execution_count": 6,
   "metadata": {},
   "outputs": [],
   "source": [
    "tst = '/mnt/ernie_main/Ghassan/ephys/data/Epat26/Epat26_stim.csv'\n",
    "tst_df = pd.read_csv(tst)\n",
    "tmp = merge_label(tst_df,label_df, 'resp_reg', 'bipole')\n"
   ]
  },
  {
   "cell_type": "markdown",
   "metadata": {},
   "source": [
    "## Aggregating Results File\n",
    "This stage reads through the results data on ernie and loads all stim csvs into one dataframe. \n",
    "This portion also labels the stim location as SOZ, NIZ, PZ, EZ, using label_df from above. For any regions unlabelled, the stim data is thrown out. "
   ]
  },
  {
   "cell_type": "code",
   "execution_count": 7,
   "metadata": {},
   "outputs": [
    {
     "name": "stdout",
     "output_type": "stream",
     "text": [
      "25\n",
      "24\n"
     ]
    }
   ],
   "source": [
    "RES_FILES = glob.glob('/mnt/ernie_main/Ghassan/ephys/data/*pat*/*pat*_crp.csv')\n",
    "print(len(RES_FILES))\n",
    "RES_FILES.remove( '/mnt/ernie_main/Ghassan/ephys/data/Spat56/Spat56_crp.csv')\n",
    "#no label for file currently\n",
    "print(len(RES_FILES))\n"
   ]
  },
  {
   "cell_type": "code",
   "execution_count": 8,
   "metadata": {},
   "outputs": [
    {
     "name": "stdout",
     "output_type": "stream",
     "text": [
      "24 subjects, total of 151996 trials, dropped: 34576\n"
     ]
    }
   ],
   "source": [
    "for f in RES_FILES:\n",
    "    tst_df = pd.read_csv(f)\n",
    "    tst_df['stim_reg'] = tst_df.stim_resp.apply(lambda x: x.split(\"_\")[0])\n",
    "    tst_df['resp_reg'] = tst_df.stim_resp.apply(lambda x: x.split(\"_\")[1])\n",
    "    tst_df['ma'] = tst_df.stim_resp.apply(lambda x: x.split(\"_\")[2])\n",
    "    tst_df.to_csv(f)\n",
    "res_df = agg_subject_results(RES_FILES, label_df.drop_duplicates())\n"
   ]
  },
  {
   "cell_type": "markdown",
   "metadata": {},
   "source": [
    "### Loading Euclidean Distances\n",
    "\n",
    "The all_pats_euclidean contains a truly massive csv of all bipole pairs and their calculated euclidean distance. This will become important in our analysis for 2 reasons:\n",
    "1. In the ISH paper, we consider that contacts within 20mm of the stimulation electrode are overriden with stim artifact, thus we need to know to discount them.\n",
    "2. We can use distance from stimulation source to understand the persistence of certain effects. For example, we expect that electrodes closer to the stimulation site will likely have higher explained variance (conduction effect + stim artifact that remains). So plotting explained variance over distance should help to disentangle some of these confounds"
   ]
  },
  {
   "cell_type": "code",
   "execution_count": 9,
   "metadata": {},
   "outputs": [],
   "source": [
    "dist_df = pd.read_csv('/mnt/ernie_main/000_Data/SEEG/SEEG_EyesClosed_RestingState/labels/all_pats_euc_dist_list.csv',header=None)\n",
    "dist_df.columns = ['subj', 'bipole1', 'bipole2','dist']\n",
    "subj_set = set(res_df.subj)\n",
    "dist_df = dist_df[dist_df.subj.isin(subj_set)]"
   ]
  },
  {
   "cell_type": "code",
   "execution_count": 10,
   "metadata": {},
   "outputs": [
    {
     "data": {
      "text/html": [
       "<div>\n",
       "<style scoped>\n",
       "    .dataframe tbody tr th:only-of-type {\n",
       "        vertical-align: middle;\n",
       "    }\n",
       "\n",
       "    .dataframe tbody tr th {\n",
       "        vertical-align: top;\n",
       "    }\n",
       "\n",
       "    .dataframe thead th {\n",
       "        text-align: right;\n",
       "    }\n",
       "</style>\n",
       "<table border=\"1\" class=\"dataframe\">\n",
       "  <thead>\n",
       "    <tr style=\"text-align: right;\">\n",
       "      <th></th>\n",
       "      <th>subj</th>\n",
       "      <th>bipole1</th>\n",
       "      <th>bipole2</th>\n",
       "      <th>dist</th>\n",
       "    </tr>\n",
       "  </thead>\n",
       "  <tbody>\n",
       "    <tr>\n",
       "      <th>220081</th>\n",
       "      <td>Epat26</td>\n",
       "      <td>LAC1-LAC2</td>\n",
       "      <td>LAC1-LAC2</td>\n",
       "      <td>0.0000</td>\n",
       "    </tr>\n",
       "    <tr>\n",
       "      <th>220082</th>\n",
       "      <td>Epat26</td>\n",
       "      <td>LAC1-LAC2</td>\n",
       "      <td>LP1-LP2</td>\n",
       "      <td>65.8629</td>\n",
       "    </tr>\n",
       "    <tr>\n",
       "      <th>220083</th>\n",
       "      <td>Epat26</td>\n",
       "      <td>LAC1-LAC2</td>\n",
       "      <td>LP2-LP3</td>\n",
       "      <td>65.3933</td>\n",
       "    </tr>\n",
       "    <tr>\n",
       "      <th>220084</th>\n",
       "      <td>Epat26</td>\n",
       "      <td>LAC1-LAC2</td>\n",
       "      <td>LTP1-LTP2</td>\n",
       "      <td>66.3953</td>\n",
       "    </tr>\n",
       "    <tr>\n",
       "      <th>220085</th>\n",
       "      <td>Epat26</td>\n",
       "      <td>LAC1-LAC2</td>\n",
       "      <td>LTP2-LTP3</td>\n",
       "      <td>66.1579</td>\n",
       "    </tr>\n",
       "    <tr>\n",
       "      <th>...</th>\n",
       "      <td>...</td>\n",
       "      <td>...</td>\n",
       "      <td>...</td>\n",
       "      <td>...</td>\n",
       "    </tr>\n",
       "    <tr>\n",
       "      <th>667058</th>\n",
       "      <td>Spat55</td>\n",
       "      <td>RAH12-RAH13</td>\n",
       "      <td>RAH8-RAH9</td>\n",
       "      <td>14.1735</td>\n",
       "    </tr>\n",
       "    <tr>\n",
       "      <th>667059</th>\n",
       "      <td>Spat55</td>\n",
       "      <td>RAH12-RAH13</td>\n",
       "      <td>RAH9-RAH10</td>\n",
       "      <td>10.5745</td>\n",
       "    </tr>\n",
       "    <tr>\n",
       "      <th>667060</th>\n",
       "      <td>Spat55</td>\n",
       "      <td>RAH12-RAH13</td>\n",
       "      <td>RAH10-RAH11</td>\n",
       "      <td>7.0017</td>\n",
       "    </tr>\n",
       "    <tr>\n",
       "      <th>667061</th>\n",
       "      <td>Spat55</td>\n",
       "      <td>RAH12-RAH13</td>\n",
       "      <td>RAH11-RAH12</td>\n",
       "      <td>3.5366</td>\n",
       "    </tr>\n",
       "    <tr>\n",
       "      <th>667062</th>\n",
       "      <td>Spat55</td>\n",
       "      <td>RAH12-RAH13</td>\n",
       "      <td>RAH12-RAH13</td>\n",
       "      <td>0.0000</td>\n",
       "    </tr>\n",
       "  </tbody>\n",
       "</table>\n",
       "<p>227020 rows × 4 columns</p>\n",
       "</div>"
      ],
      "text/plain": [
       "          subj      bipole1      bipole2     dist\n",
       "220081  Epat26    LAC1-LAC2    LAC1-LAC2   0.0000\n",
       "220082  Epat26    LAC1-LAC2      LP1-LP2  65.8629\n",
       "220083  Epat26    LAC1-LAC2      LP2-LP3  65.3933\n",
       "220084  Epat26    LAC1-LAC2    LTP1-LTP2  66.3953\n",
       "220085  Epat26    LAC1-LAC2    LTP2-LTP3  66.1579\n",
       "...        ...          ...          ...      ...\n",
       "667058  Spat55  RAH12-RAH13    RAH8-RAH9  14.1735\n",
       "667059  Spat55  RAH12-RAH13   RAH9-RAH10  10.5745\n",
       "667060  Spat55  RAH12-RAH13  RAH10-RAH11   7.0017\n",
       "667061  Spat55  RAH12-RAH13  RAH11-RAH12   3.5366\n",
       "667062  Spat55  RAH12-RAH13  RAH12-RAH13   0.0000\n",
       "\n",
       "[227020 rows x 4 columns]"
      ]
     },
     "execution_count": 10,
     "metadata": {},
     "output_type": "execute_result"
    }
   ],
   "source": [
    "dist_df"
   ]
  },
  {
   "cell_type": "code",
   "execution_count": 24,
   "metadata": {},
   "outputs": [],
   "source": [
    "## Create a dictionary which takes in a subject and 2 contacts and maps those values \n",
    "## to a distance\n",
    "\n",
    "dist_map = defaultdict(lambda: -1)\n",
    "dist_map.update({f'{subj}-{bip1}-{bip2}':d for subj,bip1,bip2,d in dist_df[['subj','bipole1','bipole2','dist']].values})\n",
    "dist_map.update({f'{subj}-{bip2}-{bip1}':d for subj,bip1,bip2,d in dist_df[['subj','bipole1','bipole2','dist']].values})\n",
    "\n",
    "tst_df = res_df.copy(deep=True)\n",
    "tst_df['dist'] = [dist_map[f\"{subj}-{stim_reg}-{resp_reg}\"] for subj,stim_reg,resp_reg in tst_df[['subj','stim_reg','resp_reg']].values]\n",
    "\n",
    "resdist_df = tst_df"
   ]
  },
  {
   "cell_type": "code",
   "execution_count": 27,
   "metadata": {},
   "outputs": [
    {
     "data": {
      "text/plain": [
       "{'NZ', 'SOZ'}"
      ]
     },
     "execution_count": 27,
     "metadata": {},
     "output_type": "execute_result"
    }
   ],
   "source": [
    "set(resdist_df.stim_reg_label)"
   ]
  },
  {
   "cell_type": "markdown",
   "metadata": {},
   "source": [
    "##### Filtering Down on the SPES Dataset\n",
    "2 criteria here: \n",
    "1. Distance from the stim electrode - ISH used 20mm to ensure no stim artifact, I used 5 mm in my initial pass to be most permissive\n",
    "2. Trial parameters : Only using 3mA trials. Most subcortical structures are not probed above 3mA for safety concerns. So this is the highest amperage we can assess most structures at. "
   ]
  },
  {
   "cell_type": "code",
   "execution_count": 28,
   "metadata": {},
   "outputs": [
    {
     "name": "stdout",
     "output_type": "stream",
     "text": [
      "New shape for dataframe: (43476, 526)\n"
     ]
    }
   ],
   "source": [
    "#Filtera conditions\n",
    "resdist_df = resdist_df[resdist_df.dist > 20] #20mm is in line with ISH\n",
    "resdist_df = resdist_df[resdist_df.ma == '3mA']\n",
    "#resdist_df = resdist_df[resdist_df.TR > 20]\n",
    "print(f\"New shape for dataframe: {resdist_df.shape}\")"
   ]
  },
  {
   "cell_type": "code",
   "execution_count": 29,
   "metadata": {},
   "outputs": [
    {
     "data": {
      "text/plain": [
       "{'NZ', 'SOZ'}"
      ]
     },
     "execution_count": 29,
     "metadata": {},
     "output_type": "execute_result"
    }
   ],
   "source": [
    "set(resdist_df.stim_reg_label)"
   ]
  },
  {
   "cell_type": "code",
   "execution_count": 15,
   "metadata": {},
   "outputs": [],
   "source": [
    "#resdist_df = resdist_df.drop(columns=resdist_df.columns[0:3])\n",
    "#Index(['Unnamed: 0.2', 'Unnamed: 0.1', 'Unnamed: 0'], dtype='object')\n",
    "crp_values = resdist_df[[str(i) for i in range(512)]].values\n",
    "sim = np.dot(crp_values, crp_values.T)"
   ]
  },
  {
   "cell_type": "code",
   "execution_count": 32,
   "metadata": {},
   "outputs": [
    {
     "data": {
      "text/plain": [
       "{'NZ_NZ', 'NZ_SOZ', 'SOZ_NZ', 'SOZ_SOZ'}"
      ]
     },
     "execution_count": 32,
     "metadata": {},
     "output_type": "execute_result"
    }
   ],
   "source": [
    "resdist_df['stim_resp_label'] = [resdist_df.stim_reg_label.values[i]\\\n",
    "                                  +\"_\"+resdist_df.resp_reg_label.values[i] \\\n",
    "                                 for i in range(resdist_df.shape[0])]\n",
    "set(resdist_df['stim_resp_label'])"
   ]
  },
  {
   "cell_type": "code",
   "execution_count": 33,
   "metadata": {},
   "outputs": [],
   "source": [
    "sim_df = pd.DataFrame(data=sim, columns=resdist_df['stim_resp_label'].values,\\\n",
    "                       index=resdist_df['stim_resp_label'].values)"
   ]
  },
  {
   "cell_type": "code",
   "execution_count": 38,
   "metadata": {},
   "outputs": [],
   "source": [
    "sim_df.to_csv(\"/mnt/ernie_main/Ghassan/ephys/data/crp_similarity.csv\")\n"
   ]
  }
 ],
 "metadata": {
  "kernelspec": {
   "display_name": "ephys",
   "language": "python",
   "name": "python3"
  },
  "language_info": {
   "codemirror_mode": {
    "name": "ipython",
    "version": 3
   },
   "file_extension": ".py",
   "mimetype": "text/x-python",
   "name": "python",
   "nbconvert_exporter": "python",
   "pygments_lexer": "ipython3",
   "version": "3.11.5"
  }
 },
 "nbformat": 4,
 "nbformat_minor": 2
}
