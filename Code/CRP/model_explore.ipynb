{
 "cells": [
  {
   "cell_type": "code",
   "execution_count": 1,
   "metadata": {},
   "outputs": [],
   "source": [
    "#Systems I/O\n",
    "import os\n",
    "from pathos.pools import ProcessPool\n",
    "import glob\n",
    "import mat73\n",
    "from scipy.io import loadmat as lm\n",
    "import re\n",
    "import h5py\n",
    "\n",
    "#data/stats\n",
    "import numpy as np\n",
    "from sklearn import svm\n",
    "\n",
    "from CrpStats import map_label\n",
    "#viz\n",
    "import seaborn as sns\n",
    "import matplotlib.pyplot as plt"
   ]
  },
  {
   "cell_type": "code",
   "execution_count": 2,
   "metadata": {},
   "outputs": [],
   "source": [
    "BANDS = ['delta', 'theta','alpha', 'beta', 'gamma_low','gamma_high']\n",
    "DIR = '/mnt/ernie_main/000_Data/SEEG/SEEG_EyesClosed_RestingState/results/Graham_81pats/PDC_RestingState/'\n"
   ]
  },
  {
   "cell_type": "code",
   "execution_count": 3,
   "metadata": {},
   "outputs": [],
   "source": [
    "pdc_f = os.path.join(DIR,\"PDC_pats_6Band_pycomp.mat\")\n",
    "pdc_struct = lm(pdc_f, chars_as_strings=True)\n",
    "pats = pdc_struct['pats']"
   ]
  },
  {
   "cell_type": "markdown",
   "metadata": {},
   "source": [
    "## Notes on Matlab struct \n",
    "- Load struct and use 'pats' key to pull out 1x81 structs wrapped in tuple\n",
    "- pull struct out of tuple for 81 structs with 7 fields per struct\n",
    "- Index 0 again to get the row of 7 structs\n",
    "- \n",
    "\n",
    "\n"
   ]
  },
  {
   "cell_type": "code",
   "execution_count": 4,
   "metadata": {},
   "outputs": [
    {
     "data": {
      "text/plain": [
       "'\\nIndex to selects col in struct\\n                          |\\nIndex to select patients  |\\n                       |  |  \\n                       |  |  \\n                       |  |  \\nepat_26_alpha = tst[0][0][2][0][0][2]\\nColumns in Struct\\n0 - subID\\n1 - labels\\n2 - \"long\" -> 6 x N x N PDC matrix (N= number of bipoles)\\n3 - pat_ID_clean - NOTE: use this one instead of labels! \\n4 - SOZ, labels for each bipole -> 0 NIZ, 1 SOZ, 2 PZ, 3 NIZ\\n5 - AVG_SOZ  - ??\\n6 - long_Z - ?\\n'"
      ]
     },
     "execution_count": 4,
     "metadata": {},
     "output_type": "execute_result"
    }
   ],
   "source": [
    "'''\n",
    "Index to selects col in struct\n",
    "                          |\n",
    "Index to select patients  |\n",
    "                       |  |  \n",
    "                       |  |  \n",
    "                       |  |  \n",
    "epat_26_alpha = tst[0][0][2][0][0][2]\n",
    "Columns in Struct\n",
    "0 - subID\n",
    "1 - labels\n",
    "2 - \"long\" -> 6 x N x N PDC matrix (N= number of bipoles)\n",
    "3 - pat_ID_clean - NOTE: use this one instead of labels! \n",
    "4 - SOZ, labels for each bipole -> 0 NIZ, 1 SOZ, 2 PZ, 3 NIZ\n",
    "5 - AVG_SOZ  - ??\n",
    "6 - long_Z - ?\n",
    "'''"
   ]
  },
  {
   "cell_type": "code",
   "execution_count": 5,
   "metadata": {},
   "outputs": [],
   "source": [
    "DTYPE = h5py.special_dtype(vlen=str)\n",
    "def format_soz(soz_labels):\n",
    "    return [map_label(l) for l in soz_labels]\n",
    "\n",
    "def format_bipole(bipole):\n",
    "    bipole = bipole.strip()\n",
    "    p = \"[0-9][a-zA-Z]\"\n",
    "    bip_match = re.search(p, bipole)\n",
    "\n",
    "    assert bip_match != None, f\"Bipole {bipole}, is not captures by regex pattern {p}\"\n",
    "    s, _ = bip_match.span()\n",
    "    return bipole[0:s+1] + \"-\" + bipole[s+1:]\n",
    "\n",
    "def format_bipoles(char_list):\n",
    "    return [format_bipole(c) for c in char_list]\n",
    "\n",
    "def load_pdc(pdc_struct):\n",
    "    pdc_all = [pdc for pdc in pdc_struct[0][0]]\n",
    "    return dict(zip(BANDS, pdc_all))\n",
    "def save_to_h5(h5f, subj_id, tissue_labels, contact_labels, pdc_mats):\n",
    "    subj_id = f\"/{subj_id}/\"\n",
    "    with h5py.File(h5f, 'a') as f:\n",
    "        grp = f.require_group(subj_id)\n",
    "        dset = grp.require_dataset('tissue_label',len(tissue_labels), DTYPE)\n",
    "        dset[:] = tissue_labels\n",
    "        dset.attrs['description'] = \"Labels for contacts as SOZ, NIZ, etc, derived from SOZ label in OG matlab struct \\\n",
    "            \\nNOTE: str will be saved as ascii. \\\n",
    "            \\nFor utf-8 (the normal python format), use .decode() per entry)\\n\"\n",
    "\n",
    "        dset = grp.require_dataset('bipole_labels', len(contact_labels), DTYPE)\n",
    "        dset[:] = contact_labels\n",
    "        dset.attrs['description'] = \"Contact labels indicating where they were implanted \\\n",
    "            \\nNOTE: str will be saved as ascii. \\\n",
    "            \\nFor utf-8 (the normal python format), use .decode() per entry)\\n\"\n",
    "\n",
    "        pdc_group =f.require_group(os.path.join(subj_id,'pdc'))\n",
    "\n",
    "        for k,v in pdc_mats.items():\n",
    "            dset = pdc_group.require_dataset(k, v.shape, float)\n",
    "            dset[:] = v\n",
    "\n",
    "    "
   ]
  },
  {
   "cell_type": "code",
   "execution_count": 6,
   "metadata": {},
   "outputs": [],
   "source": [
    "pat_dict = dict()\n",
    "h5f = os.path.join(DIR, 'PDC_pats_6Band.hdf5')\n",
    "for i, subj_struct in enumerate(pats[0]):\n",
    "    subj_id = subj_struct[3][0]\n",
    "    soz_labels = format_soz(subj_struct[4])\n",
    "    bip_labels = format_bipoles(subj_struct[1])\n",
    "    pdc_mats = load_pdc(subj_struct[2])\n",
    "    save_to_h5(h5f, subj_id, soz_labels, bip_labels,pdc_mats)\n"
   ]
  },
  {
   "cell_type": "code",
   "execution_count": 7,
   "metadata": {},
   "outputs": [
    {
     "name": "stdout",
     "output_type": "stream",
     "text": [
      "Labels for contacts as SOZ, NIZ, etc, derived from SOZ label in OG matlab struct             \n",
      "NOTE: str will be saved as ascii.             \n",
      "For utf-8 (the normal python format), use .decode() per entry)\n",
      "\n",
      "Contact labels indicating where they were implanted             \n",
      "NOTE: str will be saved as ascii.             \n",
      "For utf-8 (the normal python format), use .decode() per entry)\n",
      "\n"
     ]
    }
   ],
   "source": [
    "with h5py.File( h5f, 'r') as f:\n",
    "    spat46 = f['/Spat46']\n",
    "    soz = spat46['tissue_label']\n",
    "    print(soz.attrs['description'])\n",
    "    soz = soz[()]\n",
    "    bipole = spat46['bipole_labels']\n",
    "    print(bipole.attrs['description'])\n",
    "    bipole = bipole[()]\n",
    "\n",
    "    pdc = spat46['pdc/alpha'][()]\n",
    "\n"
   ]
  },
  {
   "cell_type": "code",
   "execution_count": 47,
   "metadata": {},
   "outputs": [],
   "source": [
    "def norm_adj_matrix(mat, by='col'):\n",
    "    \"\"\"normalizes a directed adjancy matrix against in-degree or out-degree\n",
    "\n",
    "    Args:\n",
    "        mat (np.array): NxN matrix of directed connections\n",
    "        by (str, optional): normalize by row or column. If specify col then this will center \n",
    "        all in degrees (column-wise normalize). Defaults to 'col'.\n",
    "    NOTE: when choosing a column wise operations, the dim will = 0, this is because\n",
    "    the columnwise norm collapses rows. numpy.nanmeans asks which dimension to summarize,\n",
    "    and thus specifying 0 means we wish to collapse along the row dimension\n",
    "    Returns:\n",
    "        _type_: _description_\n",
    "    \"\"\"\n",
    "    assert by== 'col' or by =='row', \"select proper dimension to summarize, only supports 2D\"\n",
    "    dim = 0 if by == 'col' else 1\n",
    "    n = mat.shape[0] \n",
    "\n",
    "    mu = np.nanmean(mat, axis=dim)\n",
    "    std = np.nanstd(mat, axis=dim)\n",
    "\n",
    "    if by == \"col\": #reshape so that broadcast on subtract does element-wise along row/col\n",
    "        mu = mu.reshape(1,n)\n",
    "        std = std.reshape(1,n)\n",
    "    else:\n",
    "        mu = mu.reshape(n,1)\n",
    "        std = std.reshape(n,1)\n",
    "    return mu, std\n",
    "\n",
    "mu, std = norm_adj_matrix(pdc,by='row')"
   ]
  },
  {
   "cell_type": "code",
   "execution_count": 48,
   "metadata": {},
   "outputs": [],
   "source": [
    "sub_tst = np.subtract(pdc,mu)"
   ]
  },
  {
   "cell_type": "code",
   "execution_count": 50,
   "metadata": {},
   "outputs": [
    {
     "data": {
      "text/plain": [
       "-0.016279565419575766"
      ]
     },
     "execution_count": 50,
     "metadata": {},
     "output_type": "execute_result"
    }
   ],
   "source": [
    "0.0249084995 - mu[12,0] #12,1"
   ]
  },
  {
   "cell_type": "code",
   "execution_count": 19,
   "metadata": {},
   "outputs": [
    {
     "data": {
      "text/plain": [
       "(110, 110)"
      ]
     },
     "execution_count": 19,
     "metadata": {},
     "output_type": "execute_result"
    }
   ],
   "source": []
  },
  {
   "cell_type": "code",
   "execution_count": null,
   "metadata": {},
   "outputs": [],
   "source": []
  }
 ],
 "metadata": {
  "kernelspec": {
   "display_name": "ephys",
   "language": "python",
   "name": "python3"
  },
  "language_info": {
   "codemirror_mode": {
    "name": "ipython",
    "version": 3
   },
   "file_extension": ".py",
   "mimetype": "text/x-python",
   "name": "python",
   "nbconvert_exporter": "python",
   "pygments_lexer": "ipython3",
   "version": "3.11.5"
  }
 },
 "nbformat": 4,
 "nbformat_minor": 2
}
