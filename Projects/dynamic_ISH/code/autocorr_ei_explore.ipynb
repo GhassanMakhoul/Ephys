{
 "cells": [
  {
   "cell_type": "code",
   "execution_count": 46,
   "metadata": {},
   "outputs": [
    {
     "name": "stdout",
     "output_type": "stream",
     "text": [
      "The autoreload extension is already loaded. To reload it, use:\n",
      "  %reload_ext autoreload\n"
     ]
    }
   ],
   "source": [
    "%load_ext autoreload\n",
    "%autoreload 2\n",
    "\n",
    "import numpy as np\n",
    "from utils import *\n",
    "\n",
    "\n",
    "import seaborn as sns\n",
    "import matplotlib.pyplot as plt"
   ]
  },
  {
   "cell_type": "code",
   "execution_count": 3,
   "metadata": {},
   "outputs": [],
   "source": [
    "from re import sub\n",
    "\n",
    "\n",
    "DATA_DIR = '/mnt/ernie_main/000_Data/SEEG/SEEG_Periictal/data/Extracted_Per_Event_Interictal'\n",
    "subj = 'Epat03'\n",
    "f = \"Epat03_1_FBTC_interictal_monopole.mat\"\n",
    "ts_struct = load_mat(os.path.join(DATA_DIR, subj, f))"
   ]
  },
  {
   "cell_type": "code",
   "execution_count": 34,
   "metadata": {},
   "outputs": [
    {
     "name": "stdout",
     "output_type": "stream",
     "text": [
      "Loaded (135, 150000) sampled at 500.0)\n",
      "Total 150000 samples -> 300.0s of data\n"
     ]
    }
   ],
   "source": [
    "ch =ts_struct['channels']\n",
    "sfreq = ts_struct['sfreq'][0][0]\n",
    "X = ts_struct['monopole'][0:-1,:]\n",
    "\n",
    "\n",
    "n, t = X.shape\n",
    "\n",
    "print(f\"Loaded {X.shape} sampled at {sfreq})\")\n",
    "print(f\"Total {t} samples -> {t//sfreq}s of data\")"
   ]
  },
  {
   "cell_type": "code",
   "execution_count": 39,
   "metadata": {},
   "outputs": [
    {
     "data": {
      "text/plain": [
       "np.float64(0.9999999999999998)"
      ]
     },
     "execution_count": 39,
     "metadata": {},
     "output_type": "execute_result"
    }
   ],
   "source": [
    "np.corrcoef(X[:, i], X[:, i+1])[1,1]"
   ]
  },
  {
   "cell_type": "code",
   "execution_count": 49,
   "metadata": {},
   "outputs": [],
   "source": [
    "# X = np.random.random((n, t))\n",
    "# C = np.corrcoef(X.T)\n",
    "# assert(X.shape==(t, t))\n",
    "# np.diag(C, 1)\n",
    "\n",
    "##\n",
    "# normalize amnplitude (preprocess)\n",
    "X = X - X.mean(axis=1).reshape(n,1)\n",
    "X = X / X.std(axis=1).reshape(n,1)\n",
    "trc = np.zeros((t,1))\n",
    "for i in range(t-1):\n",
    "    trc[i,:] = np.corrcoef(X[:, i], X[:, i+1])[0,1]\n",
    "\n",
    "##\n",
    "\n",
    "# \n",
    "# X = X - X.mean(1)\n",
    "# X = X / X.std(1)\n",
    "\n",
    "# compute the actual measure\n",
    "# X = X - X.mean(0)\n",
    "# X = X / np.linalg.norm(X, 0)\n",
    "# trc = np.sum(X[:,:-1] * X[:, 2:], 0)\n",
    "             \n",
    "\n",
    "\n",
    "\n",
    "\n"
   ]
  },
  {
   "cell_type": "code",
   "execution_count": 52,
   "metadata": {},
   "outputs": [
    {
     "data": {
      "text/plain": [
       "array([[1.        , 0.98038847],\n",
       "       [0.98038847, 1.        ]])"
      ]
     },
     "execution_count": 52,
     "metadata": {},
     "output_type": "execute_result"
    }
   ],
   "source": [
    "np.corrcoef(X[:, i], X[:, i+1])"
   ]
  },
  {
   "cell_type": "code",
   "execution_count": 58,
   "metadata": {},
   "outputs": [
    {
     "data": {
      "text/plain": [
       "(0.5483705334982405, 1.0036089956378584)"
      ]
     },
     "execution_count": 58,
     "metadata": {},
     "output_type": "execute_result"
    },
    {
     "data": {
      "image/png": "[encoded data removed]",
      "text/plain": [
       "<Figure size 640x480 with 1 Axes>"
      ]
     },
     "metadata": {},
     "output_type": "display_data"
    }
   ],
   "source": [
    "sns.lineplot(trc)\n",
    "plt.ylim(np.mean(trc)-np.std(trc)*10, np.mean(trc)+np.std(trc)*1.2)\n",
    "#TODO: examine on an SOZ vs PZ vs NIZ\n",
    "# then run peri-ictally"
   ]
  },
  {
   "cell_type": "code",
   "execution_count": null,
   "metadata": {},
   "outputs": [],
   "source": []
  }
 ],
 "metadata": {
  "kernelspec": {
   "display_name": "ephys",
   "language": "python",
   "name": "python3"
  },
  "language_info": {
   "codemirror_mode": {
    "name": "ipython",
    "version": 3
   },
   "file_extension": ".py",
   "mimetype": "text/x-python",
   "name": "python",
   "nbconvert_exporter": "python",
   "pygments_lexer": "ipython3",
   "version": "3.11.9"
  }
 },
 "nbformat": 4,
 "nbformat_minor": 2
}
